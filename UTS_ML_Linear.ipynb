{
 "cells": [
  {
   "cell_type": "markdown",
   "id": "96952d8d",
   "metadata": {},
   "source": [
    "## **IMPORT LIBRARY**"
   ]
  },
  {
   "cell_type": "code",
<<<<<<< HEAD
   "execution_count": 37,
=======
   "execution_count": 2,
>>>>>>> parent of 3e0147c (Random forest done)
   "id": "4a263110",
   "metadata": {},
   "outputs": [],
   "source": [
    "import numpy as np\n",
    "import pandas as pd                            \n",
    "import matplotlib.pyplot as plt\n",
    "\n",
    "\n",
    "from sklearn.model_selection import train_test_split       \n",
    "from sklearn.model_selection import StratifiedKFold, GridSearchCV\n",
    "\n",
    "from sklearn.preprocessing import MinMaxScaler\n",
    "from sklearn.feature_selection import SelectKBest, SelectPercentile\n",
    "\n",
    "from sklearn.ensemble import GradientBoostingClassifier\n",
    "from sklearn.svm import SVC\n",
    "from sklearn.linear_model import LogisticRegression     \n",
    "from sklearn.neighbors import KNeighborsClassifier\n",
    "from sklearn.ensemble import RandomForestClassifier      \n",
    "\n",
    "\n",
    "from sklearn.pipeline import Pipeline\n",
    "from sklearn.preprocessing import StandardScaler\n",
    "from sklearn.feature_selection import SelectKBest\n",
    "from sklearn.ensemble import GradientBoostingClassifier\n",
    "\n",
    "from sklearn.base import clone\n",
    "import time\n",
    "\n",
    "from sklearn.metrics import (\n",
    "    confusion_matrix,\n",
    "    ConfusionMatrixDisplay,\n",
    "    classification_report\n",
    ")"
   ]
  },
  {
   "cell_type": "markdown",
   "id": "cc230921",
   "metadata": {},
   "source": [
    "## **Loading Data...**"
   ]
  },
  {
   "cell_type": "code",
<<<<<<< HEAD
   "execution_count": 38,
=======
   "execution_count": 3,
>>>>>>> parent of 3e0147c (Random forest done)
   "id": "ac975542",
   "metadata": {},
   "outputs": [
    {
     "data": {
      "text/html": [
       "<div>\n",
       "<style scoped>\n",
       "    .dataframe tbody tr th:only-of-type {\n",
       "        vertical-align: middle;\n",
       "    }\n",
       "\n",
       "    .dataframe tbody tr th {\n",
       "        vertical-align: top;\n",
       "    }\n",
       "\n",
       "    .dataframe thead th {\n",
       "        text-align: right;\n",
       "    }\n",
       "</style>\n",
       "<table border=\"1\" class=\"dataframe\">\n",
       "  <thead>\n",
       "    <tr style=\"text-align: right;\">\n",
       "      <th></th>\n",
       "      <th>magnitude</th>\n",
       "      <th>depth</th>\n",
       "      <th>cdi</th>\n",
       "      <th>mmi</th>\n",
       "      <th>sig</th>\n",
       "      <th>alert</th>\n",
       "    </tr>\n",
       "  </thead>\n",
       "  <tbody>\n",
       "    <tr>\n",
       "      <th>0</th>\n",
       "      <td>7.0</td>\n",
       "      <td>14.0</td>\n",
       "      <td>8.0</td>\n",
       "      <td>7.0</td>\n",
       "      <td>0.0</td>\n",
       "      <td>green</td>\n",
       "    </tr>\n",
       "    <tr>\n",
       "      <th>1</th>\n",
       "      <td>6.9</td>\n",
       "      <td>25.0</td>\n",
       "      <td>4.0</td>\n",
       "      <td>4.0</td>\n",
       "      <td>-33.0</td>\n",
       "      <td>green</td>\n",
       "    </tr>\n",
       "    <tr>\n",
       "      <th>2</th>\n",
       "      <td>7.0</td>\n",
       "      <td>579.0</td>\n",
       "      <td>3.0</td>\n",
       "      <td>3.0</td>\n",
       "      <td>-13.0</td>\n",
       "      <td>green</td>\n",
       "    </tr>\n",
       "    <tr>\n",
       "      <th>3</th>\n",
       "      <td>7.3</td>\n",
       "      <td>37.0</td>\n",
       "      <td>5.0</td>\n",
       "      <td>5.0</td>\n",
       "      <td>65.0</td>\n",
       "      <td>green</td>\n",
       "    </tr>\n",
       "    <tr>\n",
       "      <th>4</th>\n",
       "      <td>6.6</td>\n",
       "      <td>624.0</td>\n",
       "      <td>0.0</td>\n",
       "      <td>2.0</td>\n",
       "      <td>-98.0</td>\n",
       "      <td>green</td>\n",
       "    </tr>\n",
       "  </tbody>\n",
       "</table>\n",
       "</div>"
      ],
      "text/plain": [
       "   magnitude  depth  cdi  mmi   sig  alert\n",
       "0        7.0   14.0  8.0  7.0   0.0  green\n",
       "1        6.9   25.0  4.0  4.0 -33.0  green\n",
       "2        7.0  579.0  3.0  3.0 -13.0  green\n",
       "3        7.3   37.0  5.0  5.0  65.0  green\n",
       "4        6.6  624.0  0.0  2.0 -98.0  green"
      ]
     },
<<<<<<< HEAD
     "execution_count": 38,
=======
     "execution_count": 3,
>>>>>>> parent of 3e0147c (Random forest done)
     "metadata": {},
     "output_type": "execute_result"
    }
   ],
   "source": [
    "df_gempa = pd.read_csv('earthquake_dataset.csv',header=0)\n",
    "\n",
    "df_gempa.head()\n",
    "\n"
   ]
  },
  {
   "cell_type": "markdown",
   "id": "57ce0820",
   "metadata": {},
   "source": [
    "## **Membaca tipedata**"
   ]
  },
  {
   "cell_type": "code",
<<<<<<< HEAD
   "execution_count": 39,
=======
   "execution_count": 4,
>>>>>>> parent of 3e0147c (Random forest done)
   "id": "07f9f786",
   "metadata": {},
   "outputs": [
    {
     "name": "stdout",
     "output_type": "stream",
     "text": [
      "Jumlah baris, kolom: (1300, 6)\n",
      "\n",
      "Tipe data:\n",
      "magnitude    float64\n",
      "depth        float64\n",
      "cdi          float64\n",
      "mmi          float64\n",
      "sig          float64\n",
      "alert         object\n",
      "dtype: object\n"
     ]
    },
    {
     "data": {
      "text/html": [
       "<div>\n",
       "<style scoped>\n",
       "    .dataframe tbody tr th:only-of-type {\n",
       "        vertical-align: middle;\n",
       "    }\n",
       "\n",
       "    .dataframe tbody tr th {\n",
       "        vertical-align: top;\n",
       "    }\n",
       "\n",
       "    .dataframe thead th {\n",
       "        text-align: right;\n",
       "    }\n",
       "</style>\n",
       "<table border=\"1\" class=\"dataframe\">\n",
       "  <thead>\n",
       "    <tr style=\"text-align: right;\">\n",
       "      <th></th>\n",
       "      <th>magnitude</th>\n",
       "      <th>depth</th>\n",
       "      <th>cdi</th>\n",
       "      <th>mmi</th>\n",
       "      <th>sig</th>\n",
       "    </tr>\n",
       "  </thead>\n",
       "  <tbody>\n",
       "    <tr>\n",
       "      <th>count</th>\n",
       "      <td>1300.000000</td>\n",
       "      <td>1300.000000</td>\n",
       "      <td>1300.000000</td>\n",
       "      <td>1300.000000</td>\n",
       "      <td>1300.000000</td>\n",
       "    </tr>\n",
       "    <tr>\n",
       "      <th>mean</th>\n",
       "      <td>7.061008</td>\n",
       "      <td>50.321538</td>\n",
       "      <td>6.976154</td>\n",
       "      <td>6.939231</td>\n",
       "      <td>-9.749231</td>\n",
       "    </tr>\n",
       "    <tr>\n",
       "      <th>std</th>\n",
       "      <td>0.423738</td>\n",
       "      <td>104.348286</td>\n",
       "      <td>2.244875</td>\n",
       "      <td>1.354774</td>\n",
       "      <td>62.245214</td>\n",
       "    </tr>\n",
       "    <tr>\n",
       "      <th>min</th>\n",
       "      <td>6.500000</td>\n",
       "      <td>2.000000</td>\n",
       "      <td>0.000000</td>\n",
       "      <td>1.000000</td>\n",
       "      <td>-128.000000</td>\n",
       "    </tr>\n",
       "    <tr>\n",
       "      <th>25%</th>\n",
       "      <td>6.700000</td>\n",
       "      <td>12.000000</td>\n",
       "      <td>6.000000</td>\n",
       "      <td>6.000000</td>\n",
       "      <td>-54.000000</td>\n",
       "    </tr>\n",
       "    <tr>\n",
       "      <th>50%</th>\n",
       "      <td>7.000000</td>\n",
       "      <td>19.000000</td>\n",
       "      <td>8.000000</td>\n",
       "      <td>7.000000</td>\n",
       "      <td>-7.000000</td>\n",
       "    </tr>\n",
       "    <tr>\n",
       "      <th>75%</th>\n",
       "      <td>7.300000</td>\n",
       "      <td>38.000000</td>\n",
       "      <td>8.000000</td>\n",
       "      <td>8.000000</td>\n",
       "      <td>31.000000</td>\n",
       "    </tr>\n",
       "    <tr>\n",
       "      <th>max</th>\n",
       "      <td>8.600000</td>\n",
       "      <td>670.000000</td>\n",
       "      <td>9.000000</td>\n",
       "      <td>9.000000</td>\n",
       "      <td>127.000000</td>\n",
       "    </tr>\n",
       "  </tbody>\n",
       "</table>\n",
       "</div>"
      ],
      "text/plain": [
       "         magnitude        depth          cdi          mmi          sig\n",
       "count  1300.000000  1300.000000  1300.000000  1300.000000  1300.000000\n",
       "mean      7.061008    50.321538     6.976154     6.939231    -9.749231\n",
       "std       0.423738   104.348286     2.244875     1.354774    62.245214\n",
       "min       6.500000     2.000000     0.000000     1.000000  -128.000000\n",
       "25%       6.700000    12.000000     6.000000     6.000000   -54.000000\n",
       "50%       7.000000    19.000000     8.000000     7.000000    -7.000000\n",
       "75%       7.300000    38.000000     8.000000     8.000000    31.000000\n",
       "max       8.600000   670.000000     9.000000     9.000000   127.000000"
      ]
     },
<<<<<<< HEAD
     "execution_count": 39,
=======
     "execution_count": 4,
>>>>>>> parent of 3e0147c (Random forest done)
     "metadata": {},
     "output_type": "execute_result"
    }
   ],
   "source": [
    "print(\"Jumlah baris, kolom:\", df_gempa.shape)    \n",
    "print(\"\\nTipe data:\")\n",
    "print(df_gempa.dtypes)\n",
    "\n",
    "df_gempa.describe()"
   ]
  },
  {
   "cell_type": "markdown",
   "id": "c8100269",
   "metadata": {},
   "source": [
    "## **Mengubah Alert(Object) Menjadi Numerik**"
   ]
  },
  {
   "cell_type": "code",
<<<<<<< HEAD
   "execution_count": 40,
=======
   "execution_count": 5,
>>>>>>> parent of 3e0147c (Random forest done)
   "id": "fe9eafc2",
   "metadata": {},
   "outputs": [
    {
     "data": {
      "text/plain": [
       "array(['green', 'yellow', 'orange', 'red'], dtype=object)"
      ]
     },
<<<<<<< HEAD
     "execution_count": 40,
=======
     "execution_count": 5,
>>>>>>> parent of 3e0147c (Random forest done)
     "metadata": {},
     "output_type": "execute_result"
    }
   ],
   "source": [
    "df_gempa['alert'].unique()\n",
    "\n",
    "\n"
   ]
  },
  {
   "cell_type": "code",
<<<<<<< HEAD
   "execution_count": 41,
=======
   "execution_count": 6,
>>>>>>> parent of 3e0147c (Random forest done)
   "id": "aef83e86",
   "metadata": {},
   "outputs": [],
   "source": [
    "mapping = {\n",
    "    'green': 0,\n",
    "    'yellow': 1,\n",
    "    'orange': 2,\n",
    "    'red': 3\n",
    "}\n",
    "df_gempa2 = df_gempa\n",
    "df_gempa2['alert'] = df_gempa2['alert'].map(mapping)"
   ]
  },
  {
   "cell_type": "code",
<<<<<<< HEAD
   "execution_count": 42,
=======
   "execution_count": 7,
>>>>>>> parent of 3e0147c (Random forest done)
   "id": "3454822c",
   "metadata": {},
   "outputs": [
    {
     "data": {
      "text/html": [
       "<div>\n",
       "<style scoped>\n",
       "    .dataframe tbody tr th:only-of-type {\n",
       "        vertical-align: middle;\n",
       "    }\n",
       "\n",
       "    .dataframe tbody tr th {\n",
       "        vertical-align: top;\n",
       "    }\n",
       "\n",
       "    .dataframe thead th {\n",
       "        text-align: right;\n",
       "    }\n",
       "</style>\n",
       "<table border=\"1\" class=\"dataframe\">\n",
       "  <thead>\n",
       "    <tr style=\"text-align: right;\">\n",
       "      <th></th>\n",
       "      <th>magnitude</th>\n",
       "      <th>depth</th>\n",
       "      <th>cdi</th>\n",
       "      <th>mmi</th>\n",
       "      <th>sig</th>\n",
       "      <th>alert</th>\n",
       "    </tr>\n",
       "  </thead>\n",
       "  <tbody>\n",
       "    <tr>\n",
       "      <th>0</th>\n",
       "      <td>7.0</td>\n",
       "      <td>14.0</td>\n",
       "      <td>8.0</td>\n",
       "      <td>7.0</td>\n",
       "      <td>0.0</td>\n",
       "      <td>0</td>\n",
       "    </tr>\n",
       "    <tr>\n",
       "      <th>1</th>\n",
       "      <td>6.9</td>\n",
       "      <td>25.0</td>\n",
       "      <td>4.0</td>\n",
       "      <td>4.0</td>\n",
       "      <td>-33.0</td>\n",
       "      <td>0</td>\n",
       "    </tr>\n",
       "    <tr>\n",
       "      <th>2</th>\n",
       "      <td>7.0</td>\n",
       "      <td>579.0</td>\n",
       "      <td>3.0</td>\n",
       "      <td>3.0</td>\n",
       "      <td>-13.0</td>\n",
       "      <td>0</td>\n",
       "    </tr>\n",
       "    <tr>\n",
       "      <th>3</th>\n",
       "      <td>7.3</td>\n",
       "      <td>37.0</td>\n",
       "      <td>5.0</td>\n",
       "      <td>5.0</td>\n",
       "      <td>65.0</td>\n",
       "      <td>0</td>\n",
       "    </tr>\n",
       "    <tr>\n",
       "      <th>4</th>\n",
       "      <td>6.6</td>\n",
       "      <td>624.0</td>\n",
       "      <td>0.0</td>\n",
       "      <td>2.0</td>\n",
       "      <td>-98.0</td>\n",
       "      <td>0</td>\n",
       "    </tr>\n",
       "    <tr>\n",
       "      <th>5</th>\n",
       "      <td>7.0</td>\n",
       "      <td>660.0</td>\n",
       "      <td>4.0</td>\n",
       "      <td>3.0</td>\n",
       "      <td>-13.0</td>\n",
       "      <td>0</td>\n",
       "    </tr>\n",
       "    <tr>\n",
       "      <th>6</th>\n",
       "      <td>6.8</td>\n",
       "      <td>630.0</td>\n",
       "      <td>1.0</td>\n",
       "      <td>3.0</td>\n",
       "      <td>-57.0</td>\n",
       "      <td>0</td>\n",
       "    </tr>\n",
       "    <tr>\n",
       "      <th>7</th>\n",
       "      <td>6.7</td>\n",
       "      <td>20.0</td>\n",
       "      <td>7.0</td>\n",
       "      <td>6.0</td>\n",
       "      <td>29.0</td>\n",
       "      <td>0</td>\n",
       "    </tr>\n",
       "    <tr>\n",
       "      <th>8</th>\n",
       "      <td>6.8</td>\n",
       "      <td>20.0</td>\n",
       "      <td>8.0</td>\n",
       "      <td>7.0</td>\n",
       "      <td>-101.0</td>\n",
       "      <td>1</td>\n",
       "    </tr>\n",
       "    <tr>\n",
       "      <th>9</th>\n",
       "      <td>7.6</td>\n",
       "      <td>26.0</td>\n",
       "      <td>9.0</td>\n",
       "      <td>8.0</td>\n",
       "      <td>7.0</td>\n",
       "      <td>1</td>\n",
       "    </tr>\n",
       "    <tr>\n",
       "      <th>10</th>\n",
       "      <td>6.9</td>\n",
       "      <td>10.0</td>\n",
       "      <td>9.0</td>\n",
       "      <td>9.0</td>\n",
       "      <td>119.0</td>\n",
       "      <td>1</td>\n",
       "    </tr>\n",
       "    <tr>\n",
       "      <th>11</th>\n",
       "      <td>6.5</td>\n",
       "      <td>10.0</td>\n",
       "      <td>7.0</td>\n",
       "      <td>7.0</td>\n",
       "      <td>-12.0</td>\n",
       "      <td>0</td>\n",
       "    </tr>\n",
       "    <tr>\n",
       "      <th>12</th>\n",
       "      <td>7.0</td>\n",
       "      <td>137.0</td>\n",
       "      <td>7.0</td>\n",
       "      <td>5.0</td>\n",
       "      <td>-7.0</td>\n",
       "      <td>0</td>\n",
       "    </tr>\n",
       "    <tr>\n",
       "      <th>13</th>\n",
       "      <td>7.6</td>\n",
       "      <td>116.0</td>\n",
       "      <td>8.0</td>\n",
       "      <td>8.0</td>\n",
       "      <td>-59.0</td>\n",
       "      <td>1</td>\n",
       "    </tr>\n",
       "    <tr>\n",
       "      <th>14</th>\n",
       "      <td>6.6</td>\n",
       "      <td>12.0</td>\n",
       "      <td>9.0</td>\n",
       "      <td>8.0</td>\n",
       "      <td>19.0</td>\n",
       "      <td>2</td>\n",
       "    </tr>\n",
       "    <tr>\n",
       "      <th>15</th>\n",
       "      <td>6.6</td>\n",
       "      <td>30.0</td>\n",
       "      <td>7.0</td>\n",
       "      <td>6.0</td>\n",
       "      <td>-96.0</td>\n",
       "      <td>0</td>\n",
       "    </tr>\n",
       "    <tr>\n",
       "      <th>16</th>\n",
       "      <td>7.0</td>\n",
       "      <td>33.0</td>\n",
       "      <td>9.0</td>\n",
       "      <td>8.0</td>\n",
       "      <td>71.0</td>\n",
       "      <td>1</td>\n",
       "    </tr>\n",
       "    <tr>\n",
       "      <th>17</th>\n",
       "      <td>6.5</td>\n",
       "      <td>622.0</td>\n",
       "      <td>3.0</td>\n",
       "      <td>2.0</td>\n",
       "      <td>-115.0</td>\n",
       "      <td>0</td>\n",
       "    </tr>\n",
       "    <tr>\n",
       "      <th>18</th>\n",
       "      <td>7.2</td>\n",
       "      <td>236.0</td>\n",
       "      <td>7.0</td>\n",
       "      <td>5.0</td>\n",
       "      <td>108.0</td>\n",
       "      <td>0</td>\n",
       "    </tr>\n",
       "    <tr>\n",
       "      <th>19</th>\n",
       "      <td>6.9</td>\n",
       "      <td>10.0</td>\n",
       "      <td>2.0</td>\n",
       "      <td>5.0</td>\n",
       "      <td>-35.0</td>\n",
       "      <td>0</td>\n",
       "    </tr>\n",
       "  </tbody>\n",
       "</table>\n",
       "</div>"
      ],
      "text/plain": [
       "    magnitude  depth  cdi  mmi    sig  alert\n",
       "0         7.0   14.0  8.0  7.0    0.0      0\n",
       "1         6.9   25.0  4.0  4.0  -33.0      0\n",
       "2         7.0  579.0  3.0  3.0  -13.0      0\n",
       "3         7.3   37.0  5.0  5.0   65.0      0\n",
       "4         6.6  624.0  0.0  2.0  -98.0      0\n",
       "5         7.0  660.0  4.0  3.0  -13.0      0\n",
       "6         6.8  630.0  1.0  3.0  -57.0      0\n",
       "7         6.7   20.0  7.0  6.0   29.0      0\n",
       "8         6.8   20.0  8.0  7.0 -101.0      1\n",
       "9         7.6   26.0  9.0  8.0    7.0      1\n",
       "10        6.9   10.0  9.0  9.0  119.0      1\n",
       "11        6.5   10.0  7.0  7.0  -12.0      0\n",
       "12        7.0  137.0  7.0  5.0   -7.0      0\n",
       "13        7.6  116.0  8.0  8.0  -59.0      1\n",
       "14        6.6   12.0  9.0  8.0   19.0      2\n",
       "15        6.6   30.0  7.0  6.0  -96.0      0\n",
       "16        7.0   33.0  9.0  8.0   71.0      1\n",
       "17        6.5  622.0  3.0  2.0 -115.0      0\n",
       "18        7.2  236.0  7.0  5.0  108.0      0\n",
       "19        6.9   10.0  2.0  5.0  -35.0      0"
      ]
     },
<<<<<<< HEAD
     "execution_count": 42,
=======
     "execution_count": 7,
>>>>>>> parent of 3e0147c (Random forest done)
     "metadata": {},
     "output_type": "execute_result"
    }
   ],
   "source": [
    "df_gempa2.head(20)"
   ]
  },
  {
   "cell_type": "markdown",
   "id": "ad398fd9",
   "metadata": {},
   "source": [
    "## **Pembersihan Data : pengecekan Data NULL & Pembersihan Data Duplikat**"
   ]
  },
  {
   "cell_type": "code",
<<<<<<< HEAD
   "execution_count": 43,
=======
   "execution_count": 8,
>>>>>>> parent of 3e0147c (Random forest done)
   "id": "f35e8a6f",
   "metadata": {},
   "outputs": [
    {
     "name": "stdout",
     "output_type": "stream",
     "text": [
      "Jumlah nilai kosong per kolom:\n",
      " magnitude    0\n",
      "depth        0\n",
      "cdi          0\n",
      "mmi          0\n",
      "sig          0\n",
      "alert        0\n",
      "dtype: int64\n",
      "Jumlah data duplikat: 44\n"
     ]
    }
   ],
   "source": [
    "print(\"Jumlah nilai kosong per kolom:\\n\", df_gempa2.isnull().sum())\n",
    "print(\"Jumlah data duplikat:\", df_gempa2.duplicated().sum())\n"
   ]
  },
  {
   "cell_type": "code",
<<<<<<< HEAD
   "execution_count": 44,
=======
   "execution_count": 9,
>>>>>>> parent of 3e0147c (Random forest done)
   "id": "9165d2a1",
   "metadata": {},
   "outputs": [
    {
     "name": "stdout",
     "output_type": "stream",
     "text": [
      "Jumlah data duplikat: 0\n"
     ]
    }
   ],
   "source": [
    "df_gempa3 = df_gempa2\n",
    "df_gempa3 = df_gempa3.drop_duplicates()\n",
    "\n",
    "print(\"Jumlah data duplikat:\", df_gempa3.duplicated().sum())\n",
    "\n",
    "X = df_gempa3.drop(columns=['alert'])\n",
    "y = df_gempa3['alert']\n"
   ]
  },
  {
   "cell_type": "markdown",
   "id": "11d90440",
   "metadata": {},
   "source": [
    "## **Pembagian Data Train Train/TestSplit**"
   ]
  },
  {
   "cell_type": "code",
<<<<<<< HEAD
   "execution_count": 45,
=======
   "execution_count": 10,
>>>>>>> parent of 3e0147c (Random forest done)
   "id": "350bbd97",
   "metadata": {},
   "outputs": [
    {
     "name": "stdout",
     "output_type": "stream",
     "text": [
      "Ukuran X_train, X_test: (753, 5) (503, 5)\n"
     ]
    }
   ],
   "source": [
    "X_train, X_test, y_train, y_test = train_test_split(\n",
    "    X, y, \n",
    "    test_size=0.4,      \n",
    "    random_state=86,   \n",
    "    stratify=y          \n",
    ")\n",
    "\n",
    "print(\"Ukuran X_train, X_test:\", X_train.shape, X_test.shape)"
   ]
  },
  {
   "cell_type": "markdown",
   "id": "c976f158",
   "metadata": {},
   "source": [
    "##  **Membangun Model Gradient Boosting Classifier dengan Pipeline**"
   ]
  },
  {
   "cell_type": "code",
<<<<<<< HEAD
   "execution_count": 46,
=======
   "execution_count": 11,
>>>>>>> parent of 3e0147c (Random forest done)
   "id": "4701a3ce",
   "metadata": {},
   "outputs": [],
   "source": [
    "pipe_GBS = Pipeline(steps=[\n",
    "    ('scaler', StandardScaler()),             \n",
    "    ('feat_select', SelectKBest()),       \n",
    "    ('clf', GradientBoostingClassifier(     \n",
    "        n_estimators=100,        \n",
    "        learning_rate=0.2,      \n",
    "        max_depth=3,             \n",
    "        random_state=86            \n",
    "    ))\n",
    "])\n"
   ]
  },
  {
   "cell_type": "markdown",
   "id": "0cc83687",
   "metadata": {},
   "source": []
  },
  {
   "cell_type": "code",
<<<<<<< HEAD
   "execution_count": 47,
=======
   "execution_count": 12,
>>>>>>> parent of 3e0147c (Random forest done)
   "id": "890d3003",
   "metadata": {},
   "outputs": [
    {
     "name": "stdout",
     "output_type": "stream",
     "text": [
      "Fitting 5 folds for each of 48 candidates, totalling 240 fits\n",
      "Best params (Gradient Boosting): {'clf__max_depth': 10, 'clf__min_samples_split': 5, 'clf__n_estimators': 100, 'feat_select__k': np.int64(5)}\n",
      "Best score (Gradient Boosting): 0.8762001591183018\n"
     ]
    }
   ],
   "source": [
    "SKF = StratifiedKFold(n_splits=5, shuffle=True, random_state=42)\n",
    "\n",
    "param_grid_gb = [\n",
    "    {\n",
    "        'feat_select__k': np.arange(1, 6), \n",
    "        'clf__n_estimators': [100],\n",
    "        'clf__max_depth': [3, 5, 10],\n",
    "        'clf__min_samples_split': [2, 5]\n",
    "    },\n",
    "    {\n",
    "        'feat_select': [SelectPercentile()],\n",
    "        'feat_select__percentile': [50, 70, 90],\n",
    "        'clf__n_estimators': [100],\n",
    "        'clf__max_depth': [3, 5, 10],\n",
    "        'clf__min_samples_split': [2, 5]\n",
    "    }\n",
    "]\n",
    "\n",
    "gscv_gb = GridSearchCV(\n",
    "    pipe_GBS,\n",
    "    param_grid_gb,\n",
    "    cv=SKF,\n",
    "    scoring='f1_macro',  \n",
    "    verbose=1,\n",
    "    n_jobs=-1\n",
    ")\n",
    "\n",
    "gscv_gb.fit(X_train, y_train)\n",
    "\n",
    "print(\"Best params (Gradient Boosting):\", gscv_gb.best_params_)\n",
    "print(\"Best score (Gradient Boosting):\", gscv_gb.best_score_)\n",
    "\n",
    "\n",
    "\n"
   ]
  },
  {
   "cell_type": "markdown",
   "id": "4c9231b4",
   "metadata": {},
   "source": []
  },
  {
   "cell_type": "markdown",
   "id": "4f4b8d98",
   "metadata": {},
   "source": []
  },
  {
   "cell_type": "code",
<<<<<<< HEAD
   "execution_count": 48,
=======
   "execution_count": 13,
>>>>>>> parent of 3e0147c (Random forest done)
   "id": "fb848b12",
   "metadata": {},
   "outputs": [
    {
     "data": {
      "image/png": "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",
      "text/plain": [
       "<Figure size 640x480 with 2 Axes>"
      ]
     },
     "metadata": {},
     "output_type": "display_data"
    },
    {
     "name": "stdout",
     "output_type": "stream",
     "text": [
      "\n",
      "Gradient Boosting Report:\n",
      "              precision    recall  f1-score   support\n",
      "\n",
      "           0       0.99      0.82      0.90       129\n",
      "           1       0.84      0.92      0.88       127\n",
      "           2       0.85      0.92      0.88       127\n",
      "           3       0.93      0.93      0.93       120\n",
      "\n",
      "    accuracy                           0.90       503\n",
      "   macro avg       0.90      0.90      0.90       503\n",
      "weighted avg       0.90      0.90      0.90       503\n",
      "\n"
     ]
    }
   ],
   "source": [
    "from matplotlib.colors import LinearSegmentedColormap\n",
    "\n",
    "colors = [\"#8B0000\", \"#fcde62\", \"#d2f5ce\"] # merah tua → kuning → hijau muda\n",
    "custom_cmap = LinearSegmentedColormap.from_list(\"red_to_green\", colors, N=256)\n",
    "\n",
    "y_pred_gb = gscv_gb.best_estimator_.predict(X_test)\n",
    "\n",
    "# Confusion Matrix dan Classification Report\n",
    "cm_gb = confusion_matrix(y_test, y_pred_gb)\n",
    "disp_gb = ConfusionMatrixDisplay(confusion_matrix=cm_gb,\n",
    "                                 display_labels=['0=green','1=yellow','2=orange','3=red'])\n",
    "disp_gb.plot(cmap=custom_cmap)\n",
    "plt.title(\"Confusion Matrix - Gradient Boosting\")\n",
    "plt.show()\n",
    "\n",
    "print(\"\\nGradient Boosting Report:\")\n",
    "print(classification_report(y_test, y_pred_gb))\n"
   ]
  },
  {
   "cell_type": "code",
<<<<<<< HEAD
   "execution_count": 49,
=======
   "execution_count": 14,
>>>>>>> parent of 3e0147c (Random forest done)
   "id": "b1d3a919",
   "metadata": {},
   "outputs": [
    {
     "data": {
      "text/plain": [
       "array([0, 1, 2, 3])"
      ]
     },
<<<<<<< HEAD
     "execution_count": 49,
=======
     "execution_count": 14,
>>>>>>> parent of 3e0147c (Random forest done)
     "metadata": {},
     "output_type": "execute_result"
    }
   ],
   "source": [
    "df_gempa['alert'].unique()\n",
    "\n",
    "\n"
   ]
  },
  {
   "cell_type": "markdown",
   "id": "e10eacce",
   "metadata": {},
   "source": [
    "## **Membangun Support Vector Machine Dengan Pipeline**"
   ]
  },
  {
   "cell_type": "code",
<<<<<<< HEAD
   "execution_count": 50,
=======
   "execution_count": 19,
>>>>>>> parent of 3e0147c (Random forest done)
   "id": "1186aedb",
   "metadata": {},
   "outputs": [
    {
     "name": "stdout",
     "output_type": "stream",
     "text": [
      "Menjalankan GridSearch untuk SVM...\n",
<<<<<<< HEAD
      "Fitting 5 folds for each of 112 candidates, totalling 560 fits\n"
     ]
    },
    {
     "name": "stderr",
     "output_type": "stream",
     "text": [
      "/opt/tljh/user/envs/ml/lib/python3.12/site-packages/sklearn/feature_selection/_univariate_selection.py:783: UserWarning: k=6 is greater than n_features=5. All the features will be returned.\n",
      "  warnings.warn(\n",
      "/opt/tljh/user/envs/ml/lib/python3.12/site-packages/sklearn/feature_selection/_univariate_selection.py:783: UserWarning: k=6 is greater than n_features=5. All the features will be returned.\n",
      "  warnings.warn(\n",
      "/opt/tljh/user/envs/ml/lib/python3.12/site-packages/sklearn/feature_selection/_univariate_selection.py:783: UserWarning: k=6 is greater than n_features=5. All the features will be returned.\n",
      "  warnings.warn(\n",
      "/opt/tljh/user/envs/ml/lib/python3.12/site-packages/sklearn/feature_selection/_univariate_selection.py:783: UserWarning: k=6 is greater than n_features=5. All the features will be returned.\n",
      "  warnings.warn(\n",
      "/opt/tljh/user/envs/ml/lib/python3.12/site-packages/sklearn/feature_selection/_univariate_selection.py:783: UserWarning: k=6 is greater than n_features=5. All the features will be returned.\n",
      "  warnings.warn(\n",
      "/opt/tljh/user/envs/ml/lib/python3.12/site-packages/sklearn/feature_selection/_univariate_selection.py:783: UserWarning: k=6 is greater than n_features=5. All the features will be returned.\n",
      "  warnings.warn(\n",
      "/opt/tljh/user/envs/ml/lib/python3.12/site-packages/sklearn/feature_selection/_univariate_selection.py:783: UserWarning: k=6 is greater than n_features=5. All the features will be returned.\n",
      "  warnings.warn(\n",
      "/opt/tljh/user/envs/ml/lib/python3.12/site-packages/sklearn/feature_selection/_univariate_selection.py:783: UserWarning: k=6 is greater than n_features=5. All the features will be returned.\n",
      "  warnings.warn(\n",
      "/opt/tljh/user/envs/ml/lib/python3.12/site-packages/sklearn/feature_selection/_univariate_selection.py:783: UserWarning: k=7 is greater than n_features=5. All the features will be returned.\n",
      "  warnings.warn(\n",
      "/opt/tljh/user/envs/ml/lib/python3.12/site-packages/sklearn/feature_selection/_univariate_selection.py:783: UserWarning: k=7 is greater than n_features=5. All the features will be returned.\n",
      "  warnings.warn(\n",
      "/opt/tljh/user/envs/ml/lib/python3.12/site-packages/sklearn/feature_selection/_univariate_selection.py:783: UserWarning: k=6 is greater than n_features=5. All the features will be returned.\n",
      "  warnings.warn(\n",
      "/opt/tljh/user/envs/ml/lib/python3.12/site-packages/sklearn/feature_selection/_univariate_selection.py:783: UserWarning: k=7 is greater than n_features=5. All the features will be returned.\n",
      "  warnings.warn(\n",
      "/opt/tljh/user/envs/ml/lib/python3.12/site-packages/sklearn/feature_selection/_univariate_selection.py:783: UserWarning: k=7 is greater than n_features=5. All the features will be returned.\n",
      "  warnings.warn(\n",
      "/opt/tljh/user/envs/ml/lib/python3.12/site-packages/sklearn/feature_selection/_univariate_selection.py:783: UserWarning: k=7 is greater than n_features=5. All the features will be returned.\n",
      "  warnings.warn(\n",
      "/opt/tljh/user/envs/ml/lib/python3.12/site-packages/sklearn/feature_selection/_univariate_selection.py:783: UserWarning: k=7 is greater than n_features=5. All the features will be returned.\n",
      "  warnings.warn(\n",
      "/opt/tljh/user/envs/ml/lib/python3.12/site-packages/sklearn/feature_selection/_univariate_selection.py:783: UserWarning: k=7 is greater than n_features=5. All the features will be returned.\n",
      "  warnings.warn(\n",
      "/opt/tljh/user/envs/ml/lib/python3.12/site-packages/sklearn/feature_selection/_univariate_selection.py:783: UserWarning: k=7 is greater than n_features=5. All the features will be returned.\n",
      "  warnings.warn(\n",
      "/opt/tljh/user/envs/ml/lib/python3.12/site-packages/sklearn/feature_selection/_univariate_selection.py:783: UserWarning: k=7 is greater than n_features=5. All the features will be returned.\n",
      "  warnings.warn(\n",
      "/opt/tljh/user/envs/ml/lib/python3.12/site-packages/sklearn/feature_selection/_univariate_selection.py:783: UserWarning: k=7 is greater than n_features=5. All the features will be returned.\n",
      "  warnings.warn(\n",
      "/opt/tljh/user/envs/ml/lib/python3.12/site-packages/sklearn/feature_selection/_univariate_selection.py:783: UserWarning: k=6 is greater than n_features=5. All the features will be returned.\n",
      "  warnings.warn(\n",
      "/opt/tljh/user/envs/ml/lib/python3.12/site-packages/sklearn/feature_selection/_univariate_selection.py:783: UserWarning: k=8 is greater than n_features=5. All the features will be returned.\n",
      "  warnings.warn(\n",
      "/opt/tljh/user/envs/ml/lib/python3.12/site-packages/sklearn/feature_selection/_univariate_selection.py:783: UserWarning: k=8 is greater than n_features=5. All the features will be returned.\n",
      "  warnings.warn(\n",
      "/opt/tljh/user/envs/ml/lib/python3.12/site-packages/sklearn/feature_selection/_univariate_selection.py:783: UserWarning: k=8 is greater than n_features=5. All the features will be returned.\n",
      "  warnings.warn(\n",
      "/opt/tljh/user/envs/ml/lib/python3.12/site-packages/sklearn/feature_selection/_univariate_selection.py:783: UserWarning: k=8 is greater than n_features=5. All the features will be returned.\n",
      "  warnings.warn(\n",
      "/opt/tljh/user/envs/ml/lib/python3.12/site-packages/sklearn/feature_selection/_univariate_selection.py:783: UserWarning: k=8 is greater than n_features=5. All the features will be returned.\n",
      "  warnings.warn(\n",
      "/opt/tljh/user/envs/ml/lib/python3.12/site-packages/sklearn/feature_selection/_univariate_selection.py:783: UserWarning: k=8 is greater than n_features=5. All the features will be returned.\n",
      "  warnings.warn(\n",
      "/opt/tljh/user/envs/ml/lib/python3.12/site-packages/sklearn/feature_selection/_univariate_selection.py:783: UserWarning: k=8 is greater than n_features=5. All the features will be returned.\n",
      "  warnings.warn(\n",
      "/opt/tljh/user/envs/ml/lib/python3.12/site-packages/sklearn/feature_selection/_univariate_selection.py:783: UserWarning: k=8 is greater than n_features=5. All the features will be returned.\n",
      "  warnings.warn(\n",
      "/opt/tljh/user/envs/ml/lib/python3.12/site-packages/sklearn/feature_selection/_univariate_selection.py:783: UserWarning: k=8 is greater than n_features=5. All the features will be returned.\n",
      "  warnings.warn(\n",
      "/opt/tljh/user/envs/ml/lib/python3.12/site-packages/sklearn/feature_selection/_univariate_selection.py:783: UserWarning: k=9 is greater than n_features=5. All the features will be returned.\n",
      "  warnings.warn(\n",
      "/opt/tljh/user/envs/ml/lib/python3.12/site-packages/sklearn/feature_selection/_univariate_selection.py:783: UserWarning: k=9 is greater than n_features=5. All the features will be returned.\n",
      "  warnings.warn(\n",
      "/opt/tljh/user/envs/ml/lib/python3.12/site-packages/sklearn/feature_selection/_univariate_selection.py:783: UserWarning: k=9 is greater than n_features=5. All the features will be returned.\n",
      "  warnings.warn(\n",
      "/opt/tljh/user/envs/ml/lib/python3.12/site-packages/sklearn/feature_selection/_univariate_selection.py:783: UserWarning: k=9 is greater than n_features=5. All the features will be returned.\n",
      "  warnings.warn(\n",
      "/opt/tljh/user/envs/ml/lib/python3.12/site-packages/sklearn/feature_selection/_univariate_selection.py:783: UserWarning: k=8 is greater than n_features=5. All the features will be returned.\n",
      "  warnings.warn(\n",
      "/opt/tljh/user/envs/ml/lib/python3.12/site-packages/sklearn/feature_selection/_univariate_selection.py:783: UserWarning: k=9 is greater than n_features=5. All the features will be returned.\n",
      "  warnings.warn(\n",
      "/opt/tljh/user/envs/ml/lib/python3.12/site-packages/sklearn/feature_selection/_univariate_selection.py:783: UserWarning: k=9 is greater than n_features=5. All the features will be returned.\n",
      "  warnings.warn(\n",
      "/opt/tljh/user/envs/ml/lib/python3.12/site-packages/sklearn/feature_selection/_univariate_selection.py:783: UserWarning: k=9 is greater than n_features=5. All the features will be returned.\n",
      "  warnings.warn(\n",
      "/opt/tljh/user/envs/ml/lib/python3.12/site-packages/sklearn/feature_selection/_univariate_selection.py:783: UserWarning: k=9 is greater than n_features=5. All the features will be returned.\n",
      "  warnings.warn(\n",
      "/opt/tljh/user/envs/ml/lib/python3.12/site-packages/sklearn/feature_selection/_univariate_selection.py:783: UserWarning: k=9 is greater than n_features=5. All the features will be returned.\n",
      "  warnings.warn(\n",
      "/opt/tljh/user/envs/ml/lib/python3.12/site-packages/sklearn/feature_selection/_univariate_selection.py:783: UserWarning: k=9 is greater than n_features=5. All the features will be returned.\n",
      "  warnings.warn(\n",
      "/opt/tljh/user/envs/ml/lib/python3.12/site-packages/sklearn/feature_selection/_univariate_selection.py:783: UserWarning: k=6 is greater than n_features=5. All the features will be returned.\n",
      "  warnings.warn(\n",
      "/opt/tljh/user/envs/ml/lib/python3.12/site-packages/sklearn/feature_selection/_univariate_selection.py:783: UserWarning: k=6 is greater than n_features=5. All the features will be returned.\n",
      "  warnings.warn(\n",
      "/opt/tljh/user/envs/ml/lib/python3.12/site-packages/sklearn/feature_selection/_univariate_selection.py:783: UserWarning: k=6 is greater than n_features=5. All the features will be returned.\n",
      "  warnings.warn(\n",
      "/opt/tljh/user/envs/ml/lib/python3.12/site-packages/sklearn/feature_selection/_univariate_selection.py:783: UserWarning: k=6 is greater than n_features=5. All the features will be returned.\n",
      "  warnings.warn(\n",
      "/opt/tljh/user/envs/ml/lib/python3.12/site-packages/sklearn/feature_selection/_univariate_selection.py:783: UserWarning: k=6 is greater than n_features=5. All the features will be returned.\n",
      "  warnings.warn(\n",
      "/opt/tljh/user/envs/ml/lib/python3.12/site-packages/sklearn/feature_selection/_univariate_selection.py:783: UserWarning: k=7 is greater than n_features=5. All the features will be returned.\n",
      "  warnings.warn(\n",
      "/opt/tljh/user/envs/ml/lib/python3.12/site-packages/sklearn/feature_selection/_univariate_selection.py:783: UserWarning: k=7 is greater than n_features=5. All the features will be returned.\n",
      "  warnings.warn(\n",
      "/opt/tljh/user/envs/ml/lib/python3.12/site-packages/sklearn/feature_selection/_univariate_selection.py:783: UserWarning: k=7 is greater than n_features=5. All the features will be returned.\n",
      "  warnings.warn(\n",
      "/opt/tljh/user/envs/ml/lib/python3.12/site-packages/sklearn/feature_selection/_univariate_selection.py:783: UserWarning: k=7 is greater than n_features=5. All the features will be returned.\n",
      "  warnings.warn(\n",
      "/opt/tljh/user/envs/ml/lib/python3.12/site-packages/sklearn/feature_selection/_univariate_selection.py:783: UserWarning: k=8 is greater than n_features=5. All the features will be returned.\n",
      "  warnings.warn(\n",
      "/opt/tljh/user/envs/ml/lib/python3.12/site-packages/sklearn/feature_selection/_univariate_selection.py:783: UserWarning: k=8 is greater than n_features=5. All the features will be returned.\n",
      "  warnings.warn(\n",
      "/opt/tljh/user/envs/ml/lib/python3.12/site-packages/sklearn/feature_selection/_univariate_selection.py:783: UserWarning: k=8 is greater than n_features=5. All the features will be returned.\n",
      "  warnings.warn(\n",
      "/opt/tljh/user/envs/ml/lib/python3.12/site-packages/sklearn/feature_selection/_univariate_selection.py:783: UserWarning: k=8 is greater than n_features=5. All the features will be returned.\n",
      "  warnings.warn(\n",
      "/opt/tljh/user/envs/ml/lib/python3.12/site-packages/sklearn/feature_selection/_univariate_selection.py:783: UserWarning: k=7 is greater than n_features=5. All the features will be returned.\n",
      "  warnings.warn(\n",
      "/opt/tljh/user/envs/ml/lib/python3.12/site-packages/sklearn/feature_selection/_univariate_selection.py:783: UserWarning: k=8 is greater than n_features=5. All the features will be returned.\n",
      "  warnings.warn(\n",
      "/opt/tljh/user/envs/ml/lib/python3.12/site-packages/sklearn/feature_selection/_univariate_selection.py:783: UserWarning: k=9 is greater than n_features=5. All the features will be returned.\n",
      "  warnings.warn(\n",
      "/opt/tljh/user/envs/ml/lib/python3.12/site-packages/sklearn/feature_selection/_univariate_selection.py:783: UserWarning: k=9 is greater than n_features=5. All the features will be returned.\n",
      "  warnings.warn(\n",
      "/opt/tljh/user/envs/ml/lib/python3.12/site-packages/sklearn/feature_selection/_univariate_selection.py:783: UserWarning: k=9 is greater than n_features=5. All the features will be returned.\n",
      "  warnings.warn(\n",
      "/opt/tljh/user/envs/ml/lib/python3.12/site-packages/sklearn/feature_selection/_univariate_selection.py:783: UserWarning: k=9 is greater than n_features=5. All the features will be returned.\n",
      "  warnings.warn(\n",
      "/opt/tljh/user/envs/ml/lib/python3.12/site-packages/sklearn/feature_selection/_univariate_selection.py:783: UserWarning: k=6 is greater than n_features=5. All the features will be returned.\n",
      "  warnings.warn(\n",
      "/opt/tljh/user/envs/ml/lib/python3.12/site-packages/sklearn/feature_selection/_univariate_selection.py:783: UserWarning: k=9 is greater than n_features=5. All the features will be returned.\n",
      "  warnings.warn(\n",
      "/opt/tljh/user/envs/ml/lib/python3.12/site-packages/sklearn/feature_selection/_univariate_selection.py:783: UserWarning: k=6 is greater than n_features=5. All the features will be returned.\n",
      "  warnings.warn(\n",
      "/opt/tljh/user/envs/ml/lib/python3.12/site-packages/sklearn/feature_selection/_univariate_selection.py:783: UserWarning: k=7 is greater than n_features=5. All the features will be returned.\n",
      "  warnings.warn(\n",
      "/opt/tljh/user/envs/ml/lib/python3.12/site-packages/sklearn/feature_selection/_univariate_selection.py:783: UserWarning: k=7 is greater than n_features=5. All the features will be returned.\n",
      "  warnings.warn(\n",
      "/opt/tljh/user/envs/ml/lib/python3.12/site-packages/sklearn/feature_selection/_univariate_selection.py:783: UserWarning: k=6 is greater than n_features=5. All the features will be returned.\n",
      "  warnings.warn(\n",
      "/opt/tljh/user/envs/ml/lib/python3.12/site-packages/sklearn/feature_selection/_univariate_selection.py:783: UserWarning: k=6 is greater than n_features=5. All the features will be returned.\n",
      "  warnings.warn(\n",
      "/opt/tljh/user/envs/ml/lib/python3.12/site-packages/sklearn/feature_selection/_univariate_selection.py:783: UserWarning: k=6 is greater than n_features=5. All the features will be returned.\n",
      "  warnings.warn(\n",
      "/opt/tljh/user/envs/ml/lib/python3.12/site-packages/sklearn/feature_selection/_univariate_selection.py:783: UserWarning: k=7 is greater than n_features=5. All the features will be returned.\n",
      "  warnings.warn(\n",
      "/opt/tljh/user/envs/ml/lib/python3.12/site-packages/sklearn/feature_selection/_univariate_selection.py:783: UserWarning: k=7 is greater than n_features=5. All the features will be returned.\n",
      "  warnings.warn(\n",
      "/opt/tljh/user/envs/ml/lib/python3.12/site-packages/sklearn/feature_selection/_univariate_selection.py:783: UserWarning: k=8 is greater than n_features=5. All the features will be returned.\n",
      "  warnings.warn(\n",
      "/opt/tljh/user/envs/ml/lib/python3.12/site-packages/sklearn/feature_selection/_univariate_selection.py:783: UserWarning: k=8 is greater than n_features=5. All the features will be returned.\n",
      "  warnings.warn(\n",
      "/opt/tljh/user/envs/ml/lib/python3.12/site-packages/sklearn/feature_selection/_univariate_selection.py:783: UserWarning: k=8 is greater than n_features=5. All the features will be returned.\n",
      "  warnings.warn(\n",
      "/opt/tljh/user/envs/ml/lib/python3.12/site-packages/sklearn/feature_selection/_univariate_selection.py:783: UserWarning: k=9 is greater than n_features=5. All the features will be returned.\n",
      "  warnings.warn(\n",
      "/opt/tljh/user/envs/ml/lib/python3.12/site-packages/sklearn/feature_selection/_univariate_selection.py:783: UserWarning: k=9 is greater than n_features=5. All the features will be returned.\n",
      "  warnings.warn(\n",
      "/opt/tljh/user/envs/ml/lib/python3.12/site-packages/sklearn/feature_selection/_univariate_selection.py:783: UserWarning: k=8 is greater than n_features=5. All the features will be returned.\n",
      "  warnings.warn(\n",
      "/opt/tljh/user/envs/ml/lib/python3.12/site-packages/sklearn/feature_selection/_univariate_selection.py:783: UserWarning: k=8 is greater than n_features=5. All the features will be returned.\n",
      "  warnings.warn(\n",
      "/opt/tljh/user/envs/ml/lib/python3.12/site-packages/sklearn/feature_selection/_univariate_selection.py:783: UserWarning: k=9 is greater than n_features=5. All the features will be returned.\n",
      "  warnings.warn(\n",
      "/opt/tljh/user/envs/ml/lib/python3.12/site-packages/sklearn/feature_selection/_univariate_selection.py:783: UserWarning: k=9 is greater than n_features=5. All the features will be returned.\n",
      "  warnings.warn(\n",
      "/opt/tljh/user/envs/ml/lib/python3.12/site-packages/sklearn/feature_selection/_univariate_selection.py:783: UserWarning: k=7 is greater than n_features=5. All the features will be returned.\n",
      "  warnings.warn(\n",
      "/opt/tljh/user/envs/ml/lib/python3.12/site-packages/sklearn/feature_selection/_univariate_selection.py:783: UserWarning: k=9 is greater than n_features=5. All the features will be returned.\n",
      "  warnings.warn(\n",
      "/opt/tljh/user/envs/ml/lib/python3.12/site-packages/sklearn/feature_selection/_univariate_selection.py:783: UserWarning: k=6 is greater than n_features=5. All the features will be returned.\n",
      "  warnings.warn(\n",
      "/opt/tljh/user/envs/ml/lib/python3.12/site-packages/sklearn/feature_selection/_univariate_selection.py:783: UserWarning: k=6 is greater than n_features=5. All the features will be returned.\n",
      "  warnings.warn(\n",
      "/opt/tljh/user/envs/ml/lib/python3.12/site-packages/sklearn/feature_selection/_univariate_selection.py:783: UserWarning: k=6 is greater than n_features=5. All the features will be returned.\n",
      "  warnings.warn(\n",
      "/opt/tljh/user/envs/ml/lib/python3.12/site-packages/sklearn/feature_selection/_univariate_selection.py:783: UserWarning: k=6 is greater than n_features=5. All the features will be returned.\n",
      "  warnings.warn(\n",
      "/opt/tljh/user/envs/ml/lib/python3.12/site-packages/sklearn/feature_selection/_univariate_selection.py:783: UserWarning: k=7 is greater than n_features=5. All the features will be returned.\n",
      "  warnings.warn(\n",
      "/opt/tljh/user/envs/ml/lib/python3.12/site-packages/sklearn/feature_selection/_univariate_selection.py:783: UserWarning: k=7 is greater than n_features=5. All the features will be returned.\n",
      "  warnings.warn(\n",
      "/opt/tljh/user/envs/ml/lib/python3.12/site-packages/sklearn/feature_selection/_univariate_selection.py:783: UserWarning: k=7 is greater than n_features=5. All the features will be returned.\n",
      "  warnings.warn(\n",
      "/opt/tljh/user/envs/ml/lib/python3.12/site-packages/sklearn/feature_selection/_univariate_selection.py:783: UserWarning: k=6 is greater than n_features=5. All the features will be returned.\n",
      "  warnings.warn(\n",
      "/opt/tljh/user/envs/ml/lib/python3.12/site-packages/sklearn/feature_selection/_univariate_selection.py:783: UserWarning: k=7 is greater than n_features=5. All the features will be returned.\n",
      "  warnings.warn(\n",
      "/opt/tljh/user/envs/ml/lib/python3.12/site-packages/sklearn/feature_selection/_univariate_selection.py:783: UserWarning: k=7 is greater than n_features=5. All the features will be returned.\n",
      "  warnings.warn(\n",
      "/opt/tljh/user/envs/ml/lib/python3.12/site-packages/sklearn/feature_selection/_univariate_selection.py:783: UserWarning: k=8 is greater than n_features=5. All the features will be returned.\n",
      "  warnings.warn(\n",
      "/opt/tljh/user/envs/ml/lib/python3.12/site-packages/sklearn/feature_selection/_univariate_selection.py:783: UserWarning: k=8 is greater than n_features=5. All the features will be returned.\n",
      "  warnings.warn(\n",
      "/opt/tljh/user/envs/ml/lib/python3.12/site-packages/sklearn/feature_selection/_univariate_selection.py:783: UserWarning: k=8 is greater than n_features=5. All the features will be returned.\n",
      "  warnings.warn(\n",
      "/opt/tljh/user/envs/ml/lib/python3.12/site-packages/sklearn/feature_selection/_univariate_selection.py:783: UserWarning: k=9 is greater than n_features=5. All the features will be returned.\n",
      "  warnings.warn(\n",
      "/opt/tljh/user/envs/ml/lib/python3.12/site-packages/sklearn/feature_selection/_univariate_selection.py:783: UserWarning: k=9 is greater than n_features=5. All the features will be returned.\n",
      "  warnings.warn(\n",
      "/opt/tljh/user/envs/ml/lib/python3.12/site-packages/sklearn/feature_selection/_univariate_selection.py:783: UserWarning: k=8 is greater than n_features=5. All the features will be returned.\n",
      "  warnings.warn(\n",
      "/opt/tljh/user/envs/ml/lib/python3.12/site-packages/sklearn/feature_selection/_univariate_selection.py:783: UserWarning: k=8 is greater than n_features=5. All the features will be returned.\n",
      "  warnings.warn(\n",
      "/opt/tljh/user/envs/ml/lib/python3.12/site-packages/sklearn/feature_selection/_univariate_selection.py:783: UserWarning: k=6 is greater than n_features=5. All the features will be returned.\n",
      "  warnings.warn(\n",
      "/opt/tljh/user/envs/ml/lib/python3.12/site-packages/sklearn/feature_selection/_univariate_selection.py:783: UserWarning: k=9 is greater than n_features=5. All the features will be returned.\n",
      "  warnings.warn(\n",
      "/opt/tljh/user/envs/ml/lib/python3.12/site-packages/sklearn/feature_selection/_univariate_selection.py:783: UserWarning: k=9 is greater than n_features=5. All the features will be returned.\n",
      "  warnings.warn(\n",
      "/opt/tljh/user/envs/ml/lib/python3.12/site-packages/sklearn/feature_selection/_univariate_selection.py:783: UserWarning: k=9 is greater than n_features=5. All the features will be returned.\n",
      "  warnings.warn(\n",
      "/opt/tljh/user/envs/ml/lib/python3.12/site-packages/sklearn/feature_selection/_univariate_selection.py:783: UserWarning: k=7 is greater than n_features=5. All the features will be returned.\n",
      "  warnings.warn(\n",
      "/opt/tljh/user/envs/ml/lib/python3.12/site-packages/sklearn/feature_selection/_univariate_selection.py:783: UserWarning: k=7 is greater than n_features=5. All the features will be returned.\n",
      "  warnings.warn(\n",
      "/opt/tljh/user/envs/ml/lib/python3.12/site-packages/sklearn/feature_selection/_univariate_selection.py:783: UserWarning: k=6 is greater than n_features=5. All the features will be returned.\n",
      "  warnings.warn(\n",
      "/opt/tljh/user/envs/ml/lib/python3.12/site-packages/sklearn/feature_selection/_univariate_selection.py:783: UserWarning: k=6 is greater than n_features=5. All the features will be returned.\n",
      "  warnings.warn(\n",
      "/opt/tljh/user/envs/ml/lib/python3.12/site-packages/sklearn/feature_selection/_univariate_selection.py:783: UserWarning: k=8 is greater than n_features=5. All the features will be returned.\n",
      "  warnings.warn(\n",
      "/opt/tljh/user/envs/ml/lib/python3.12/site-packages/sklearn/feature_selection/_univariate_selection.py:783: UserWarning: k=7 is greater than n_features=5. All the features will be returned.\n",
      "  warnings.warn(\n",
      "/opt/tljh/user/envs/ml/lib/python3.12/site-packages/sklearn/feature_selection/_univariate_selection.py:783: UserWarning: k=7 is greater than n_features=5. All the features will be returned.\n",
      "  warnings.warn(\n",
      "/opt/tljh/user/envs/ml/lib/python3.12/site-packages/sklearn/feature_selection/_univariate_selection.py:783: UserWarning: k=8 is greater than n_features=5. All the features will be returned.\n",
      "  warnings.warn(\n",
      "/opt/tljh/user/envs/ml/lib/python3.12/site-packages/sklearn/feature_selection/_univariate_selection.py:783: UserWarning: k=6 is greater than n_features=5. All the features will be returned.\n",
      "  warnings.warn(\n",
      "/opt/tljh/user/envs/ml/lib/python3.12/site-packages/sklearn/feature_selection/_univariate_selection.py:783: UserWarning: k=7 is greater than n_features=5. All the features will be returned.\n",
      "  warnings.warn(\n",
      "/opt/tljh/user/envs/ml/lib/python3.12/site-packages/sklearn/feature_selection/_univariate_selection.py:783: UserWarning: k=8 is greater than n_features=5. All the features will be returned.\n",
      "  warnings.warn(\n",
      "/opt/tljh/user/envs/ml/lib/python3.12/site-packages/sklearn/feature_selection/_univariate_selection.py:783: UserWarning: k=9 is greater than n_features=5. All the features will be returned.\n",
      "  warnings.warn(\n",
      "/opt/tljh/user/envs/ml/lib/python3.12/site-packages/sklearn/feature_selection/_univariate_selection.py:783: UserWarning: k=9 is greater than n_features=5. All the features will be returned.\n",
      "  warnings.warn(\n",
      "/opt/tljh/user/envs/ml/lib/python3.12/site-packages/sklearn/feature_selection/_univariate_selection.py:783: UserWarning: k=9 is greater than n_features=5. All the features will be returned.\n",
      "  warnings.warn(\n",
      "/opt/tljh/user/envs/ml/lib/python3.12/site-packages/sklearn/feature_selection/_univariate_selection.py:783: UserWarning: k=9 is greater than n_features=5. All the features will be returned.\n",
      "  warnings.warn(\n",
      "/opt/tljh/user/envs/ml/lib/python3.12/site-packages/sklearn/feature_selection/_univariate_selection.py:783: UserWarning: k=8 is greater than n_features=5. All the features will be returned.\n",
      "  warnings.warn(\n",
      "/opt/tljh/user/envs/ml/lib/python3.12/site-packages/sklearn/feature_selection/_univariate_selection.py:783: UserWarning: k=8 is greater than n_features=5. All the features will be returned.\n",
      "  warnings.warn(\n",
      "/opt/tljh/user/envs/ml/lib/python3.12/site-packages/sklearn/feature_selection/_univariate_selection.py:783: UserWarning: k=6 is greater than n_features=5. All the features will be returned.\n",
      "  warnings.warn(\n",
      "/opt/tljh/user/envs/ml/lib/python3.12/site-packages/sklearn/feature_selection/_univariate_selection.py:783: UserWarning: k=9 is greater than n_features=5. All the features will be returned.\n",
      "  warnings.warn(\n",
      "/opt/tljh/user/envs/ml/lib/python3.12/site-packages/sklearn/feature_selection/_univariate_selection.py:783: UserWarning: k=6 is greater than n_features=5. All the features will be returned.\n",
      "  warnings.warn(\n",
      "/opt/tljh/user/envs/ml/lib/python3.12/site-packages/sklearn/feature_selection/_univariate_selection.py:783: UserWarning: k=6 is greater than n_features=5. All the features will be returned.\n",
      "  warnings.warn(\n",
      "/opt/tljh/user/envs/ml/lib/python3.12/site-packages/sklearn/feature_selection/_univariate_selection.py:783: UserWarning: k=6 is greater than n_features=5. All the features will be returned.\n",
      "  warnings.warn(\n",
      "/opt/tljh/user/envs/ml/lib/python3.12/site-packages/sklearn/feature_selection/_univariate_selection.py:783: UserWarning: k=6 is greater than n_features=5. All the features will be returned.\n",
      "  warnings.warn(\n",
      "/opt/tljh/user/envs/ml/lib/python3.12/site-packages/sklearn/feature_selection/_univariate_selection.py:783: UserWarning: k=7 is greater than n_features=5. All the features will be returned.\n",
      "  warnings.warn(\n",
      "/opt/tljh/user/envs/ml/lib/python3.12/site-packages/sklearn/feature_selection/_univariate_selection.py:783: UserWarning: k=6 is greater than n_features=5. All the features will be returned.\n",
      "  warnings.warn(\n",
      "/opt/tljh/user/envs/ml/lib/python3.12/site-packages/sklearn/feature_selection/_univariate_selection.py:783: UserWarning: k=7 is greater than n_features=5. All the features will be returned.\n",
      "  warnings.warn(\n",
      "/opt/tljh/user/envs/ml/lib/python3.12/site-packages/sklearn/feature_selection/_univariate_selection.py:783: UserWarning: k=8 is greater than n_features=5. All the features will be returned.\n",
      "  warnings.warn(\n",
      "/opt/tljh/user/envs/ml/lib/python3.12/site-packages/sklearn/feature_selection/_univariate_selection.py:783: UserWarning: k=8 is greater than n_features=5. All the features will be returned.\n",
      "  warnings.warn(\n",
      "/opt/tljh/user/envs/ml/lib/python3.12/site-packages/sklearn/feature_selection/_univariate_selection.py:783: UserWarning: k=9 is greater than n_features=5. All the features will be returned.\n",
      "  warnings.warn(\n",
      "/opt/tljh/user/envs/ml/lib/python3.12/site-packages/sklearn/feature_selection/_univariate_selection.py:783: UserWarning: k=9 is greater than n_features=5. All the features will be returned.\n",
      "  warnings.warn(\n",
      "/opt/tljh/user/envs/ml/lib/python3.12/site-packages/sklearn/feature_selection/_univariate_selection.py:783: UserWarning: k=8 is greater than n_features=5. All the features will be returned.\n",
      "  warnings.warn(\n",
      "/opt/tljh/user/envs/ml/lib/python3.12/site-packages/sklearn/feature_selection/_univariate_selection.py:783: UserWarning: k=6 is greater than n_features=5. All the features will be returned.\n",
      "  warnings.warn(\n",
      "/opt/tljh/user/envs/ml/lib/python3.12/site-packages/sklearn/feature_selection/_univariate_selection.py:783: UserWarning: k=6 is greater than n_features=5. All the features will be returned.\n",
      "  warnings.warn(\n",
      "/opt/tljh/user/envs/ml/lib/python3.12/site-packages/sklearn/feature_selection/_univariate_selection.py:783: UserWarning: k=7 is greater than n_features=5. All the features will be returned.\n",
      "  warnings.warn(\n",
      "/opt/tljh/user/envs/ml/lib/python3.12/site-packages/sklearn/feature_selection/_univariate_selection.py:783: UserWarning: k=6 is greater than n_features=5. All the features will be returned.\n",
      "  warnings.warn(\n",
      "/opt/tljh/user/envs/ml/lib/python3.12/site-packages/sklearn/feature_selection/_univariate_selection.py:783: UserWarning: k=7 is greater than n_features=5. All the features will be returned.\n",
      "  warnings.warn(\n",
      "/opt/tljh/user/envs/ml/lib/python3.12/site-packages/sklearn/feature_selection/_univariate_selection.py:783: UserWarning: k=9 is greater than n_features=5. All the features will be returned.\n",
      "  warnings.warn(\n",
      "/opt/tljh/user/envs/ml/lib/python3.12/site-packages/sklearn/feature_selection/_univariate_selection.py:783: UserWarning: k=6 is greater than n_features=5. All the features will be returned.\n",
      "  warnings.warn(\n",
      "/opt/tljh/user/envs/ml/lib/python3.12/site-packages/sklearn/feature_selection/_univariate_selection.py:783: UserWarning: k=6 is greater than n_features=5. All the features will be returned.\n",
      "  warnings.warn(\n",
      "/opt/tljh/user/envs/ml/lib/python3.12/site-packages/sklearn/feature_selection/_univariate_selection.py:783: UserWarning: k=7 is greater than n_features=5. All the features will be returned.\n",
      "  warnings.warn(\n",
      "/opt/tljh/user/envs/ml/lib/python3.12/site-packages/sklearn/feature_selection/_univariate_selection.py:783: UserWarning: k=8 is greater than n_features=5. All the features will be returned.\n",
      "  warnings.warn(\n",
      "/opt/tljh/user/envs/ml/lib/python3.12/site-packages/sklearn/feature_selection/_univariate_selection.py:783: UserWarning: k=8 is greater than n_features=5. All the features will be returned.\n",
      "  warnings.warn(\n",
      "/opt/tljh/user/envs/ml/lib/python3.12/site-packages/sklearn/feature_selection/_univariate_selection.py:783: UserWarning: k=7 is greater than n_features=5. All the features will be returned.\n",
      "  warnings.warn(\n",
      "/opt/tljh/user/envs/ml/lib/python3.12/site-packages/sklearn/feature_selection/_univariate_selection.py:783: UserWarning: k=8 is greater than n_features=5. All the features will be returned.\n",
      "  warnings.warn(\n",
      "/opt/tljh/user/envs/ml/lib/python3.12/site-packages/sklearn/feature_selection/_univariate_selection.py:783: UserWarning: k=9 is greater than n_features=5. All the features will be returned.\n",
      "  warnings.warn(\n",
      "/opt/tljh/user/envs/ml/lib/python3.12/site-packages/sklearn/feature_selection/_univariate_selection.py:783: UserWarning: k=7 is greater than n_features=5. All the features will be returned.\n",
      "  warnings.warn(\n",
      "/opt/tljh/user/envs/ml/lib/python3.12/site-packages/sklearn/feature_selection/_univariate_selection.py:783: UserWarning: k=9 is greater than n_features=5. All the features will be returned.\n",
      "  warnings.warn(\n",
      "/opt/tljh/user/envs/ml/lib/python3.12/site-packages/sklearn/feature_selection/_univariate_selection.py:783: UserWarning: k=9 is greater than n_features=5. All the features will be returned.\n",
      "  warnings.warn(\n",
      "/opt/tljh/user/envs/ml/lib/python3.12/site-packages/sklearn/feature_selection/_univariate_selection.py:783: UserWarning: k=8 is greater than n_features=5. All the features will be returned.\n",
      "  warnings.warn(\n",
      "/opt/tljh/user/envs/ml/lib/python3.12/site-packages/sklearn/feature_selection/_univariate_selection.py:783: UserWarning: k=7 is greater than n_features=5. All the features will be returned.\n",
      "  warnings.warn(\n",
      "/opt/tljh/user/envs/ml/lib/python3.12/site-packages/sklearn/feature_selection/_univariate_selection.py:783: UserWarning: k=9 is greater than n_features=5. All the features will be returned.\n",
      "  warnings.warn(\n",
      "/opt/tljh/user/envs/ml/lib/python3.12/site-packages/sklearn/feature_selection/_univariate_selection.py:783: UserWarning: k=7 is greater than n_features=5. All the features will be returned.\n",
      "  warnings.warn(\n",
      "/opt/tljh/user/envs/ml/lib/python3.12/site-packages/sklearn/feature_selection/_univariate_selection.py:783: UserWarning: k=8 is greater than n_features=5. All the features will be returned.\n",
      "  warnings.warn(\n",
      "/opt/tljh/user/envs/ml/lib/python3.12/site-packages/sklearn/feature_selection/_univariate_selection.py:783: UserWarning: k=8 is greater than n_features=5. All the features will be returned.\n",
      "  warnings.warn(\n",
      "/opt/tljh/user/envs/ml/lib/python3.12/site-packages/sklearn/feature_selection/_univariate_selection.py:783: UserWarning: k=9 is greater than n_features=5. All the features will be returned.\n",
      "  warnings.warn(\n",
      "/opt/tljh/user/envs/ml/lib/python3.12/site-packages/sklearn/feature_selection/_univariate_selection.py:783: UserWarning: k=7 is greater than n_features=5. All the features will be returned.\n",
      "  warnings.warn(\n",
      "/opt/tljh/user/envs/ml/lib/python3.12/site-packages/sklearn/feature_selection/_univariate_selection.py:783: UserWarning: k=9 is greater than n_features=5. All the features will be returned.\n",
      "  warnings.warn(\n",
      "/opt/tljh/user/envs/ml/lib/python3.12/site-packages/sklearn/feature_selection/_univariate_selection.py:783: UserWarning: k=8 is greater than n_features=5. All the features will be returned.\n",
      "  warnings.warn(\n",
      "/opt/tljh/user/envs/ml/lib/python3.12/site-packages/sklearn/feature_selection/_univariate_selection.py:783: UserWarning: k=9 is greater than n_features=5. All the features will be returned.\n",
      "  warnings.warn(\n"
     ]
    },
    {
     "name": "stdout",
     "output_type": "stream",
     "text": [
      "GridSearch SVM selesai dalam 0.66 detik\n"
=======
      "Fitting 5 folds for each of 112 candidates, totalling 560 fits\n",
      "GridSearch SVM selesai dalam 7.91 detik\n"
>>>>>>> parent of 3e0147c (Random forest done)
     ]
    }
   ],
   "source": [
    "pipe_svm = Pipeline(steps=[\n",
    "    ('scaler', StandardScaler()),\n",
    "    ('feat_select', SelectKBest()),\n",
    "    ('clf', SVC(\n",
    "        C=1.0,\n",
    "        kernel='linear',\n",
    "        random_state=86,\n",
    "    ))\n",
    "])\n",
    "\n",
    "params_grid_svm = [\n",
    "    {\n",
    "        'scaler': [StandardScaler(), MinMaxScaler()],\n",
    "        'feat_select__k': np.arange(2, 10),                              \n",
    "        'clf__C': [0.01, 0.1, 1, 10],                \n",
    "    },\n",
    "    {   \n",
    "        'scaler': [StandardScaler(), MinMaxScaler()],\n",
    "        'feat_select': [SelectPercentile()],                \n",
    "        'feat_select__percentile': np.arange(20, 80, 10),\n",
    "        'clf__C': [0.01, 0.1, 1, 10],\n",
    "    }\n",
    "]\n",
    "\n",
    "SKF = StratifiedKFold(n_splits=5, shuffle=True, random_state=42)\n",
    "\n",
    "gscv_svm = GridSearchCV(\n",
    "    pipe_svm,\n",
    "    params_grid_svm,\n",
    "    cv=SKF,\n",
    "    scoring='f1_macro',\n",
    "    verbose=1,\n",
    "    n_jobs=-1\n",
    ")\n",
    "\n",
    "print(\"Menjalankan GridSearch untuk SVM...\")\n",
    "start = time.time()\n",
    "gscv_svm.fit(X_train, y_train)\n",
    "print(f\"GridSearch SVM selesai dalam {time.time() - start:.2f} detik\")"
   ]
  },
  {
   "cell_type": "markdown",
   "id": "7de79584",
   "metadata": {},
   "source": [
    "## **Evaluasi model Support Vector Machine**"
   ]
  },
  {
   "cell_type": "code",
<<<<<<< HEAD
   "execution_count": 51,
=======
   "execution_count": 22,
>>>>>>> parent of 3e0147c (Random forest done)
   "id": "0788f2da",
   "metadata": {},
   "outputs": [
    {
     "data": {
      "image/png": "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",
      "text/plain": [
       "<Figure size 640x480 with 2 Axes>"
      ]
     },
     "metadata": {},
     "output_type": "display_data"
    },
    {
     "name": "stdout",
     "output_type": "stream",
     "text": [
      "\n",
      "SVM Report:\n",
      "              precision    recall  f1-score   support\n",
      "\n",
      "           0       0.83      0.75      0.79       129\n",
      "           1       0.52      0.59      0.55       127\n",
      "           2       0.62      0.54      0.57       127\n",
      "           3       0.70      0.77      0.73       120\n",
      "\n",
      "    accuracy                           0.66       503\n",
      "   macro avg       0.67      0.66      0.66       503\n",
      "weighted avg       0.67      0.66      0.66       503\n",
      "\n"
     ]
    }
   ],
   "source": [
    "colors = [\"#8B0000\", \"#fcde62\", \"#d2f5ce\"] # merah tua → kuning → hijau muda\n",
    "custom_cmap = LinearSegmentedColormap.from_list(\"red_to_green\", colors, N=256)\n",
    "\n",
    "y_pred_svm = gscv_svm.best_estimator_.predict(X_test)\n",
    "\n",
    "# Confusion Matrix dan Classification Report\n",
    "cm_svm = confusion_matrix(y_test, y_pred_svm)\n",
    "disp_svm = ConfusionMatrixDisplay(confusion_matrix=cm_svm,\n",
    "                                 display_labels=['0=green','1=yellow','2=orange','3=red'])\n",
    "disp_svm.plot(cmap=custom_cmap)\n",
    "plt.title(\"Confusion Matrix - SVM\")\n",
    "plt.show()\n",
    "\n",
    "print(\"\\nSVM Report:\")\n",
    "print(classification_report(y_test, y_pred_svm))"
   ]
  },
  {
   "cell_type": "markdown",
   "id": "10097c9e",
   "metadata": {},
   "source": [
    "## **Visualisasi Perbandingan Tiga Model Terbaik**"
   ]
  },
  {
   "cell_type": "code",
<<<<<<< HEAD
   "execution_count": 52,
=======
   "execution_count": 23,
>>>>>>> parent of 3e0147c (Random forest done)
   "id": "d0bd6aa0",
   "metadata": {},
   "outputs": [
    {
     "data": {
<<<<<<< HEAD
      "image/png": "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",
=======
      "image/png": "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",
>>>>>>> parent of 3e0147c (Random forest done)
      "text/plain": [
       "<Figure size 1600x400 with 2 Axes>"
      ]
     },
     "metadata": {},
     "output_type": "display_data"
    }
   ],
   "source": [
    "fig, (ax1, ax2) = plt.subplots(ncols=2, figsize=(16, 4))\n",
    "\n",
    "disp_gb.plot(ax=ax1, cmap=plt.cm.Blues, colorbar=False)\n",
    "ax1.set_title(\"Gradient Boosting Classifier\")   \n",
    "\n",
    "\n",
    "disp_svm.plot(ax=ax2, cmap=plt.cm.Purples, colorbar=False)\n",
    "ax2.set_title(\"Support Vector Machine\")      \n",
    "\n",
    "\n",
    "\n",
    "plt.tight_layout()\n",
    "plt.show()  # tampilkan semua plot"
   ]
  },
  {
   "cell_type": "code",
   "execution_count": 53,
   "id": "88396463",
   "metadata": {},
   "outputs": [
    {
     "name": "stdout",
     "output_type": "stream",
     "text": [
      "✅ Model gradient boosting terbaik berhasil disimpan ke 'best_gradient_boosting.pkl'\n"
     ]
    }
   ],
   "source": [
    "import pickle                                    \n",
    "\n",
    "\n",
    "best_gb_model = gscv_gb.best_estimator_.named_steps['clf']\n",
    "\n",
    "with open(\"best_gradient_boosting.pkl\", \"wb\") as f:   \n",
    "        pickle.dump(best_gb_model, f)                \n",
    "\n",
    "print(\"✅ Model gradient boosting terbaik berhasil disimpan ke 'best_gradient_boosting.pkl'\")"
   ]
  },
  {
   "cell_type": "code",
   "execution_count": null,
   "id": "6f12ac57-eae8-4b1d-830c-b1f877b223c1",
   "metadata": {},
   "outputs": [],
   "source": []
  }
 ],
 "metadata": {
  "kernelspec": {
   "display_name": "Python (pythonforml)",
   "language": "python",
   "name": ".pythonforml"
  },
  "language_info": {
   "codemirror_mode": {
    "name": "ipython",
    "version": 3
   },
   "file_extension": ".py",
   "mimetype": "text/x-python",
   "name": "python",
   "nbconvert_exporter": "python",
   "pygments_lexer": "ipython3",
   "version": "3.10.0"
  }
 },
 "nbformat": 4,
 "nbformat_minor": 5
}
