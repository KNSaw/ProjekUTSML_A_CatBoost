{
 "cells": [
  {
   "cell_type": "markdown",
   "id": "96952d8d",
   "metadata": {},
   "source": [
    "## **IMPORT LIBRARY**"
   ]
  },
  {
   "cell_type": "code",
   "execution_count": 42,
   "id": "4a263110",
   "metadata": {},
   "outputs": [],
   "source": [
    "import numpy as np\n",
    "import pandas as pd                            \n",
    "import matplotlib.pyplot as plt\n",
    "\n",
    "\n",
    "from sklearn.model_selection import train_test_split       \n",
    "from sklearn.model_selection import StratifiedKFold, GridSearchCV\n",
    "\n",
    "from sklearn.preprocessing import MinMaxScaler\n",
    "from sklearn.feature_selection import SelectKBest, SelectPercentile\n",
    "\n",
    "from sklearn.ensemble import GradientBoostingClassifier\n",
    "from sklearn.svm import SVC\n",
    "from sklearn.linear_model import LogisticRegression     \n",
    "from sklearn.neighbors import KNeighborsClassifier\n",
    "from sklearn.ensemble import RandomForestClassifier      \n",
    "\n",
    "\n",
    "from sklearn.pipeline import Pipeline\n",
    "from sklearn.preprocessing import StandardScaler\n",
    "from sklearn.feature_selection import SelectKBest\n",
    "from sklearn.ensemble import GradientBoostingClassifier\n",
    "\n",
    "from sklearn.base import clone\n",
    "import time\n",
    "\n",
    "from sklearn.metrics import (\n",
    "    confusion_matrix,\n",
    "    ConfusionMatrixDisplay,\n",
    "    classification_report\n",
    ")"
   ]
  },
  {
   "cell_type": "markdown",
   "id": "cc230921",
   "metadata": {},
   "source": [
    "## **Loading Data...**"
   ]
  },
  {
   "cell_type": "code",
   "execution_count": 43,
   "id": "ac975542",
   "metadata": {},
   "outputs": [
    {
     "data": {
      "text/html": [
       "<div>\n",
       "<style scoped>\n",
       "    .dataframe tbody tr th:only-of-type {\n",
       "        vertical-align: middle;\n",
       "    }\n",
       "\n",
       "    .dataframe tbody tr th {\n",
       "        vertical-align: top;\n",
       "    }\n",
       "\n",
       "    .dataframe thead th {\n",
       "        text-align: right;\n",
       "    }\n",
       "</style>\n",
       "<table border=\"1\" class=\"dataframe\">\n",
       "  <thead>\n",
       "    <tr style=\"text-align: right;\">\n",
       "      <th></th>\n",
       "      <th>magnitude</th>\n",
       "      <th>depth</th>\n",
       "      <th>cdi</th>\n",
       "      <th>mmi</th>\n",
       "      <th>sig</th>\n",
       "      <th>alert</th>\n",
       "    </tr>\n",
       "  </thead>\n",
       "  <tbody>\n",
       "    <tr>\n",
       "      <th>0</th>\n",
       "      <td>7.0</td>\n",
       "      <td>14.0</td>\n",
       "      <td>8.0</td>\n",
       "      <td>7.0</td>\n",
       "      <td>0.0</td>\n",
       "      <td>green</td>\n",
       "    </tr>\n",
       "    <tr>\n",
       "      <th>1</th>\n",
       "      <td>6.9</td>\n",
       "      <td>25.0</td>\n",
       "      <td>4.0</td>\n",
       "      <td>4.0</td>\n",
       "      <td>-33.0</td>\n",
       "      <td>green</td>\n",
       "    </tr>\n",
       "    <tr>\n",
       "      <th>2</th>\n",
       "      <td>7.0</td>\n",
       "      <td>579.0</td>\n",
       "      <td>3.0</td>\n",
       "      <td>3.0</td>\n",
       "      <td>-13.0</td>\n",
       "      <td>green</td>\n",
       "    </tr>\n",
       "    <tr>\n",
       "      <th>3</th>\n",
       "      <td>7.3</td>\n",
       "      <td>37.0</td>\n",
       "      <td>5.0</td>\n",
       "      <td>5.0</td>\n",
       "      <td>65.0</td>\n",
       "      <td>green</td>\n",
       "    </tr>\n",
       "    <tr>\n",
       "      <th>4</th>\n",
       "      <td>6.6</td>\n",
       "      <td>624.0</td>\n",
       "      <td>0.0</td>\n",
       "      <td>2.0</td>\n",
       "      <td>-98.0</td>\n",
       "      <td>green</td>\n",
       "    </tr>\n",
       "  </tbody>\n",
       "</table>\n",
       "</div>"
      ],
      "text/plain": [
       "   magnitude  depth  cdi  mmi   sig  alert\n",
       "0        7.0   14.0  8.0  7.0   0.0  green\n",
       "1        6.9   25.0  4.0  4.0 -33.0  green\n",
       "2        7.0  579.0  3.0  3.0 -13.0  green\n",
       "3        7.3   37.0  5.0  5.0  65.0  green\n",
       "4        6.6  624.0  0.0  2.0 -98.0  green"
      ]
     },
     "execution_count": 43,
     "metadata": {},
     "output_type": "execute_result"
    }
   ],
   "source": [
    "df_gempa = pd.read_csv('earthquake_dataset.csv',header=0)\n",
    "\n",
    "df_gempa.head()\n",
    "\n"
   ]
  },
  {
   "cell_type": "markdown",
   "id": "57ce0820",
   "metadata": {},
   "source": [
    "## **Membaca tipedata**"
   ]
  },
  {
   "cell_type": "code",
   "execution_count": 44,
   "id": "07f9f786",
   "metadata": {},
   "outputs": [
    {
     "name": "stdout",
     "output_type": "stream",
     "text": [
      "Jumlah baris, kolom: (1300, 6)\n",
      "\n",
      "Tipe data:\n",
      "magnitude    float64\n",
      "depth        float64\n",
      "cdi          float64\n",
      "mmi          float64\n",
      "sig          float64\n",
      "alert         object\n",
      "dtype: object\n"
     ]
    },
    {
     "data": {
      "text/html": [
       "<div>\n",
       "<style scoped>\n",
       "    .dataframe tbody tr th:only-of-type {\n",
       "        vertical-align: middle;\n",
       "    }\n",
       "\n",
       "    .dataframe tbody tr th {\n",
       "        vertical-align: top;\n",
       "    }\n",
       "\n",
       "    .dataframe thead th {\n",
       "        text-align: right;\n",
       "    }\n",
       "</style>\n",
       "<table border=\"1\" class=\"dataframe\">\n",
       "  <thead>\n",
       "    <tr style=\"text-align: right;\">\n",
       "      <th></th>\n",
       "      <th>magnitude</th>\n",
       "      <th>depth</th>\n",
       "      <th>cdi</th>\n",
       "      <th>mmi</th>\n",
       "      <th>sig</th>\n",
       "    </tr>\n",
       "  </thead>\n",
       "  <tbody>\n",
       "    <tr>\n",
       "      <th>count</th>\n",
       "      <td>1300.000000</td>\n",
       "      <td>1300.000000</td>\n",
       "      <td>1300.000000</td>\n",
       "      <td>1300.000000</td>\n",
       "      <td>1300.000000</td>\n",
       "    </tr>\n",
       "    <tr>\n",
       "      <th>mean</th>\n",
       "      <td>7.061008</td>\n",
       "      <td>50.321538</td>\n",
       "      <td>6.976154</td>\n",
       "      <td>6.939231</td>\n",
       "      <td>-9.749231</td>\n",
       "    </tr>\n",
       "    <tr>\n",
       "      <th>std</th>\n",
       "      <td>0.423738</td>\n",
       "      <td>104.348286</td>\n",
       "      <td>2.244875</td>\n",
       "      <td>1.354774</td>\n",
       "      <td>62.245214</td>\n",
       "    </tr>\n",
       "    <tr>\n",
       "      <th>min</th>\n",
       "      <td>6.500000</td>\n",
       "      <td>2.000000</td>\n",
       "      <td>0.000000</td>\n",
       "      <td>1.000000</td>\n",
       "      <td>-128.000000</td>\n",
       "    </tr>\n",
       "    <tr>\n",
       "      <th>25%</th>\n",
       "      <td>6.700000</td>\n",
       "      <td>12.000000</td>\n",
       "      <td>6.000000</td>\n",
       "      <td>6.000000</td>\n",
       "      <td>-54.000000</td>\n",
       "    </tr>\n",
       "    <tr>\n",
       "      <th>50%</th>\n",
       "      <td>7.000000</td>\n",
       "      <td>19.000000</td>\n",
       "      <td>8.000000</td>\n",
       "      <td>7.000000</td>\n",
       "      <td>-7.000000</td>\n",
       "    </tr>\n",
       "    <tr>\n",
       "      <th>75%</th>\n",
       "      <td>7.300000</td>\n",
       "      <td>38.000000</td>\n",
       "      <td>8.000000</td>\n",
       "      <td>8.000000</td>\n",
       "      <td>31.000000</td>\n",
       "    </tr>\n",
       "    <tr>\n",
       "      <th>max</th>\n",
       "      <td>8.600000</td>\n",
       "      <td>670.000000</td>\n",
       "      <td>9.000000</td>\n",
       "      <td>9.000000</td>\n",
       "      <td>127.000000</td>\n",
       "    </tr>\n",
       "  </tbody>\n",
       "</table>\n",
       "</div>"
      ],
      "text/plain": [
       "         magnitude        depth          cdi          mmi          sig\n",
       "count  1300.000000  1300.000000  1300.000000  1300.000000  1300.000000\n",
       "mean      7.061008    50.321538     6.976154     6.939231    -9.749231\n",
       "std       0.423738   104.348286     2.244875     1.354774    62.245214\n",
       "min       6.500000     2.000000     0.000000     1.000000  -128.000000\n",
       "25%       6.700000    12.000000     6.000000     6.000000   -54.000000\n",
       "50%       7.000000    19.000000     8.000000     7.000000    -7.000000\n",
       "75%       7.300000    38.000000     8.000000     8.000000    31.000000\n",
       "max       8.600000   670.000000     9.000000     9.000000   127.000000"
      ]
     },
     "execution_count": 44,
     "metadata": {},
     "output_type": "execute_result"
    }
   ],
   "source": [
    "print(\"Jumlah baris, kolom:\", df_gempa.shape)    \n",
    "print(\"\\nTipe data:\")\n",
    "print(df_gempa.dtypes)\n",
    "\n",
    "df_gempa.describe()"
   ]
  },
  {
   "cell_type": "markdown",
   "id": "c8100269",
   "metadata": {},
   "source": [
    "## **Mengubah Alert(Object) Menjadi Numerik**"
   ]
  },
  {
   "cell_type": "code",
   "execution_count": 45,
   "id": "fe9eafc2",
   "metadata": {},
   "outputs": [
    {
     "data": {
      "text/plain": [
       "array(['green', 'yellow', 'orange', 'red'], dtype=object)"
      ]
     },
     "execution_count": 45,
     "metadata": {},
     "output_type": "execute_result"
    }
   ],
   "source": [
    "df_gempa['alert'].unique()\n",
    "\n",
    "\n"
   ]
  },
  {
   "cell_type": "code",
   "execution_count": 46,
   "id": "aef83e86",
   "metadata": {},
   "outputs": [],
   "source": [
    "mapping = {\n",
    "    'green': 0,\n",
    "    'yellow': 1,\n",
    "    'orange': 2,\n",
    "    'red': 3\n",
    "}\n",
    "df_gempa2 = df_gempa\n",
    "df_gempa2['alert'] = df_gempa2['alert'].map(mapping)"
   ]
  },
  {
   "cell_type": "code",
   "execution_count": 47,
   "id": "3454822c",
   "metadata": {},
   "outputs": [
    {
     "data": {
      "text/html": [
       "<div>\n",
       "<style scoped>\n",
       "    .dataframe tbody tr th:only-of-type {\n",
       "        vertical-align: middle;\n",
       "    }\n",
       "\n",
       "    .dataframe tbody tr th {\n",
       "        vertical-align: top;\n",
       "    }\n",
       "\n",
       "    .dataframe thead th {\n",
       "        text-align: right;\n",
       "    }\n",
       "</style>\n",
       "<table border=\"1\" class=\"dataframe\">\n",
       "  <thead>\n",
       "    <tr style=\"text-align: right;\">\n",
       "      <th></th>\n",
       "      <th>magnitude</th>\n",
       "      <th>depth</th>\n",
       "      <th>cdi</th>\n",
       "      <th>mmi</th>\n",
       "      <th>sig</th>\n",
       "      <th>alert</th>\n",
       "    </tr>\n",
       "  </thead>\n",
       "  <tbody>\n",
       "    <tr>\n",
       "      <th>0</th>\n",
       "      <td>7.0</td>\n",
       "      <td>14.0</td>\n",
       "      <td>8.0</td>\n",
       "      <td>7.0</td>\n",
       "      <td>0.0</td>\n",
       "      <td>0</td>\n",
       "    </tr>\n",
       "    <tr>\n",
       "      <th>1</th>\n",
       "      <td>6.9</td>\n",
       "      <td>25.0</td>\n",
       "      <td>4.0</td>\n",
       "      <td>4.0</td>\n",
       "      <td>-33.0</td>\n",
       "      <td>0</td>\n",
       "    </tr>\n",
       "    <tr>\n",
       "      <th>2</th>\n",
       "      <td>7.0</td>\n",
       "      <td>579.0</td>\n",
       "      <td>3.0</td>\n",
       "      <td>3.0</td>\n",
       "      <td>-13.0</td>\n",
       "      <td>0</td>\n",
       "    </tr>\n",
       "    <tr>\n",
       "      <th>3</th>\n",
       "      <td>7.3</td>\n",
       "      <td>37.0</td>\n",
       "      <td>5.0</td>\n",
       "      <td>5.0</td>\n",
       "      <td>65.0</td>\n",
       "      <td>0</td>\n",
       "    </tr>\n",
       "    <tr>\n",
       "      <th>4</th>\n",
       "      <td>6.6</td>\n",
       "      <td>624.0</td>\n",
       "      <td>0.0</td>\n",
       "      <td>2.0</td>\n",
       "      <td>-98.0</td>\n",
       "      <td>0</td>\n",
       "    </tr>\n",
       "    <tr>\n",
       "      <th>5</th>\n",
       "      <td>7.0</td>\n",
       "      <td>660.0</td>\n",
       "      <td>4.0</td>\n",
       "      <td>3.0</td>\n",
       "      <td>-13.0</td>\n",
       "      <td>0</td>\n",
       "    </tr>\n",
       "    <tr>\n",
       "      <th>6</th>\n",
       "      <td>6.8</td>\n",
       "      <td>630.0</td>\n",
       "      <td>1.0</td>\n",
       "      <td>3.0</td>\n",
       "      <td>-57.0</td>\n",
       "      <td>0</td>\n",
       "    </tr>\n",
       "    <tr>\n",
       "      <th>7</th>\n",
       "      <td>6.7</td>\n",
       "      <td>20.0</td>\n",
       "      <td>7.0</td>\n",
       "      <td>6.0</td>\n",
       "      <td>29.0</td>\n",
       "      <td>0</td>\n",
       "    </tr>\n",
       "    <tr>\n",
       "      <th>8</th>\n",
       "      <td>6.8</td>\n",
       "      <td>20.0</td>\n",
       "      <td>8.0</td>\n",
       "      <td>7.0</td>\n",
       "      <td>-101.0</td>\n",
       "      <td>1</td>\n",
       "    </tr>\n",
       "    <tr>\n",
       "      <th>9</th>\n",
       "      <td>7.6</td>\n",
       "      <td>26.0</td>\n",
       "      <td>9.0</td>\n",
       "      <td>8.0</td>\n",
       "      <td>7.0</td>\n",
       "      <td>1</td>\n",
       "    </tr>\n",
       "    <tr>\n",
       "      <th>10</th>\n",
       "      <td>6.9</td>\n",
       "      <td>10.0</td>\n",
       "      <td>9.0</td>\n",
       "      <td>9.0</td>\n",
       "      <td>119.0</td>\n",
       "      <td>1</td>\n",
       "    </tr>\n",
       "    <tr>\n",
       "      <th>11</th>\n",
       "      <td>6.5</td>\n",
       "      <td>10.0</td>\n",
       "      <td>7.0</td>\n",
       "      <td>7.0</td>\n",
       "      <td>-12.0</td>\n",
       "      <td>0</td>\n",
       "    </tr>\n",
       "    <tr>\n",
       "      <th>12</th>\n",
       "      <td>7.0</td>\n",
       "      <td>137.0</td>\n",
       "      <td>7.0</td>\n",
       "      <td>5.0</td>\n",
       "      <td>-7.0</td>\n",
       "      <td>0</td>\n",
       "    </tr>\n",
       "    <tr>\n",
       "      <th>13</th>\n",
       "      <td>7.6</td>\n",
       "      <td>116.0</td>\n",
       "      <td>8.0</td>\n",
       "      <td>8.0</td>\n",
       "      <td>-59.0</td>\n",
       "      <td>1</td>\n",
       "    </tr>\n",
       "    <tr>\n",
       "      <th>14</th>\n",
       "      <td>6.6</td>\n",
       "      <td>12.0</td>\n",
       "      <td>9.0</td>\n",
       "      <td>8.0</td>\n",
       "      <td>19.0</td>\n",
       "      <td>2</td>\n",
       "    </tr>\n",
       "    <tr>\n",
       "      <th>15</th>\n",
       "      <td>6.6</td>\n",
       "      <td>30.0</td>\n",
       "      <td>7.0</td>\n",
       "      <td>6.0</td>\n",
       "      <td>-96.0</td>\n",
       "      <td>0</td>\n",
       "    </tr>\n",
       "    <tr>\n",
       "      <th>16</th>\n",
       "      <td>7.0</td>\n",
       "      <td>33.0</td>\n",
       "      <td>9.0</td>\n",
       "      <td>8.0</td>\n",
       "      <td>71.0</td>\n",
       "      <td>1</td>\n",
       "    </tr>\n",
       "    <tr>\n",
       "      <th>17</th>\n",
       "      <td>6.5</td>\n",
       "      <td>622.0</td>\n",
       "      <td>3.0</td>\n",
       "      <td>2.0</td>\n",
       "      <td>-115.0</td>\n",
       "      <td>0</td>\n",
       "    </tr>\n",
       "    <tr>\n",
       "      <th>18</th>\n",
       "      <td>7.2</td>\n",
       "      <td>236.0</td>\n",
       "      <td>7.0</td>\n",
       "      <td>5.0</td>\n",
       "      <td>108.0</td>\n",
       "      <td>0</td>\n",
       "    </tr>\n",
       "    <tr>\n",
       "      <th>19</th>\n",
       "      <td>6.9</td>\n",
       "      <td>10.0</td>\n",
       "      <td>2.0</td>\n",
       "      <td>5.0</td>\n",
       "      <td>-35.0</td>\n",
       "      <td>0</td>\n",
       "    </tr>\n",
       "  </tbody>\n",
       "</table>\n",
       "</div>"
      ],
      "text/plain": [
       "    magnitude  depth  cdi  mmi    sig  alert\n",
       "0         7.0   14.0  8.0  7.0    0.0      0\n",
       "1         6.9   25.0  4.0  4.0  -33.0      0\n",
       "2         7.0  579.0  3.0  3.0  -13.0      0\n",
       "3         7.3   37.0  5.0  5.0   65.0      0\n",
       "4         6.6  624.0  0.0  2.0  -98.0      0\n",
       "5         7.0  660.0  4.0  3.0  -13.0      0\n",
       "6         6.8  630.0  1.0  3.0  -57.0      0\n",
       "7         6.7   20.0  7.0  6.0   29.0      0\n",
       "8         6.8   20.0  8.0  7.0 -101.0      1\n",
       "9         7.6   26.0  9.0  8.0    7.0      1\n",
       "10        6.9   10.0  9.0  9.0  119.0      1\n",
       "11        6.5   10.0  7.0  7.0  -12.0      0\n",
       "12        7.0  137.0  7.0  5.0   -7.0      0\n",
       "13        7.6  116.0  8.0  8.0  -59.0      1\n",
       "14        6.6   12.0  9.0  8.0   19.0      2\n",
       "15        6.6   30.0  7.0  6.0  -96.0      0\n",
       "16        7.0   33.0  9.0  8.0   71.0      1\n",
       "17        6.5  622.0  3.0  2.0 -115.0      0\n",
       "18        7.2  236.0  7.0  5.0  108.0      0\n",
       "19        6.9   10.0  2.0  5.0  -35.0      0"
      ]
     },
     "execution_count": 47,
     "metadata": {},
     "output_type": "execute_result"
    }
   ],
   "source": [
    "df_gempa2.head(20)"
   ]
  },
  {
   "cell_type": "markdown",
   "id": "ad398fd9",
   "metadata": {},
   "source": [
    "## **Pembersihan Data : pengecekan Data NULL & Pembersihan Data Duplikat**"
   ]
  },
  {
   "cell_type": "code",
   "execution_count": 48,
   "id": "f35e8a6f",
   "metadata": {},
   "outputs": [
    {
     "name": "stdout",
     "output_type": "stream",
     "text": [
      "Jumlah nilai kosong per kolom:\n",
      " magnitude    0\n",
      "depth        0\n",
      "cdi          0\n",
      "mmi          0\n",
      "sig          0\n",
      "alert        0\n",
      "dtype: int64\n",
      "Jumlah data duplikat: 44\n"
     ]
    }
   ],
   "source": [
    "print(\"Jumlah nilai kosong per kolom:\\n\", df_gempa2.isnull().sum())\n",
    "print(\"Jumlah data duplikat:\", df_gempa2.duplicated().sum())\n"
   ]
  },
  {
   "cell_type": "code",
   "execution_count": 49,
   "id": "9165d2a1",
   "metadata": {},
   "outputs": [
    {
     "name": "stdout",
     "output_type": "stream",
     "text": [
      "Jumlah data duplikat: 0\n"
     ]
    }
   ],
   "source": [
    "df_gempa3 = df_gempa2\n",
    "df_gempa3 = df_gempa3.drop_duplicates()\n",
    "\n",
    "print(\"Jumlah data duplikat:\", df_gempa3.duplicated().sum())\n",
    "\n",
    "X = df_gempa3.drop(columns=['alert'])\n",
    "y = df_gempa3['alert']\n"
   ]
  },
  {
   "cell_type": "markdown",
   "id": "11d90440",
   "metadata": {},
   "source": [
    "## **Pembagian Data Train Train/TestSplit**"
   ]
  },
  {
   "cell_type": "code",
   "execution_count": 50,
   "id": "350bbd97",
   "metadata": {},
   "outputs": [
    {
     "name": "stdout",
     "output_type": "stream",
     "text": [
      "Ukuran X_train, X_test: (753, 5) (503, 5)\n"
     ]
    }
   ],
   "source": [
    "X_train, X_test, y_train, y_test = train_test_split(\n",
    "    X, y, \n",
    "    test_size=0.4,      \n",
    "    random_state=86,   \n",
    "    stratify=y          \n",
    ")\n",
    "\n",
    "print(\"Ukuran X_train, X_test:\", X_train.shape, X_test.shape)"
   ]
  },
  {
   "cell_type": "markdown",
   "id": "c976f158",
   "metadata": {},
   "source": [
    "##  **Membangun Model Gradient Boosting Classifier dengan Pipeline**"
   ]
  },
  {
   "cell_type": "code",
   "execution_count": 51,
   "id": "4701a3ce",
   "metadata": {},
   "outputs": [],
   "source": [
    "pipe_GBS = Pipeline(steps=[\n",
    "    ('scaler', StandardScaler()),             \n",
    "    ('feat_select', SelectKBest()),       \n",
    "    ('clf', GradientBoostingClassifier(     \n",
    "        n_estimators=100,        \n",
    "        learning_rate=0.2,      \n",
    "        max_depth=3,             \n",
    "        random_state=86            \n",
    "    ))\n",
    "])\n"
   ]
  },
  {
   "cell_type": "markdown",
   "id": "0cc83687",
   "metadata": {},
   "source": []
  },
  {
   "cell_type": "code",
   "execution_count": 52,
   "id": "890d3003",
   "metadata": {},
   "outputs": [
    {
     "name": "stdout",
     "output_type": "stream",
     "text": [
      "Fitting 5 folds for each of 48 candidates, totalling 240 fits\n",
      "Best params (Gradient Boosting): {'clf__max_depth': 10, 'clf__min_samples_split': 5, 'clf__n_estimators': 100, 'feat_select__k': np.int64(5)}\n",
      "Best score (Gradient Boosting): 0.8762001591183018\n"
     ]
    }
   ],
   "source": [
    "SKF = StratifiedKFold(n_splits=5, shuffle=True, random_state=42)\n",
    "\n",
    "param_grid_gb = [\n",
    "    {\n",
    "        'feat_select__k': np.arange(1, 6), \n",
    "        'clf__n_estimators': [100],\n",
    "        'clf__max_depth': [3, 5, 10],\n",
    "        'clf__min_samples_split': [2, 5]\n",
    "    },\n",
    "    {\n",
    "        'feat_select': [SelectPercentile()],\n",
    "        'feat_select__percentile': [50, 70, 90],\n",
    "        'clf__n_estimators': [100],\n",
    "        'clf__max_depth': [3, 5, 10],\n",
    "        'clf__min_samples_split': [2, 5]\n",
    "    }\n",
    "]\n",
    "\n",
    "gscv_gb = GridSearchCV(\n",
    "    pipe_GBS,\n",
    "    param_grid_gb,\n",
    "    cv=SKF,\n",
    "    scoring='f1_macro',  \n",
    "    verbose=1,\n",
    "    n_jobs=-1\n",
    ")\n",
    "\n",
    "gscv_gb.fit(X_train, y_train)\n",
    "\n",
    "print(\"Best params (Gradient Boosting):\", gscv_gb.best_params_)\n",
    "print(\"Best score (Gradient Boosting):\", gscv_gb.best_score_)\n",
    "\n",
    "\n",
    "\n"
   ]
  },
  {
   "cell_type": "markdown",
   "id": "4c9231b4",
   "metadata": {},
   "source": []
  },
  {
   "cell_type": "markdown",
   "id": "4f4b8d98",
   "metadata": {},
   "source": []
  },
  {
   "cell_type": "code",
   "execution_count": 53,
   "id": "fb848b12",
   "metadata": {},
   "outputs": [
    {
     "data": {
      "image/png": "[encoded data removed]",
      "text/plain": [
       "<Figure size 640x480 with 2 Axes>"
      ]
     },
     "metadata": {},
     "output_type": "display_data"
    },
    {
     "name": "stdout",
     "output_type": "stream",
     "text": [
      "\n",
      "Gradient Boosting Report:\n",
      "              precision    recall  f1-score   support\n",
      "\n",
      "           0       0.99      0.82      0.90       129\n",
      "           1       0.84      0.92      0.88       127\n",
      "           2       0.85      0.92      0.88       127\n",
      "           3       0.93      0.93      0.93       120\n",
      "\n",
      "    accuracy                           0.90       503\n",
      "   macro avg       0.90      0.90      0.90       503\n",
      "weighted avg       0.90      0.90      0.90       503\n",
      "\n"
     ]
    }
   ],
   "source": [
    "from matplotlib.colors import LinearSegmentedColormap\n",
    "\n",
    "colors = [\"#8B0000\", \"#fcde62\", \"#d2f5ce\"] # merah tua → kuning → hijau muda\n",
    "custom_cmap = LinearSegmentedColormap.from_list(\"red_to_green\", colors, N=256)\n",
    "\n",
    "y_pred_gb = gscv_gb.best_estimator_.predict(X_test)\n",
    "\n",
    "# Confusion Matrix dan Classification Report\n",
    "cm_gb = confusion_matrix(y_test, y_pred_gb)\n",
    "disp_gb = ConfusionMatrixDisplay(confusion_matrix=cm_gb,\n",
    "                                 display_labels=['0=green','1=yellow','2=orange','3=red'])\n",
    "disp_gb.plot(cmap=custom_cmap)\n",
    "plt.title(\"Confusion Matrix - Gradient Boosting\")\n",
    "plt.show()\n",
    "\n",
    "print(\"\\nGradient Boosting Report:\")\n",
    "print(classification_report(y_test, y_pred_gb))\n"
   ]
  },
  {
   "cell_type": "code",
   "execution_count": 54,
   "id": "b1d3a919",
   "metadata": {},
   "outputs": [
    {
     "data": {
      "text/plain": [
       "array([0, 1, 2, 3])"
      ]
     },
     "execution_count": 54,
     "metadata": {},
     "output_type": "execute_result"
    }
   ],
   "source": [
    "df_gempa['alert'].unique()\n",
    "\n",
    "\n"
   ]
  },
  {
   "cell_type": "markdown",
   "id": "e10eacce",
   "metadata": {},
   "source": [
    "## **Membangun Support Vector Machine Dengan Pipeline**"
   ]
  },
  {
   "cell_type": "code",
   "execution_count": 55,
   "id": "1186aedb",
   "metadata": {},
   "outputs": [
    {
     "name": "stdout",
     "output_type": "stream",
     "text": [
      "Menjalankan GridSearch untuk SVM...\n",
      "Fitting 5 folds for each of 196 candidates, totalling 980 fits\n",
      "GridSearch SVM selesai dalam 28.39 detik\n"
     ]
    }
   ],
   "source": [
    "pipe_svm = Pipeline(steps=[\n",
    "    ('scaler', StandardScaler()),\n",
    "    ('feat_select', SelectKBest()),\n",
    "    ('clf', SVC(\n",
    "        C=1.0,\n",
    "        kernel='linear',\n",
    "        random_state=86,\n",
    "    ))\n",
    "])\n",
    "\n",
    "params_grid_svm = [\n",
    "    {\n",
    "        'scaler': [StandardScaler(), MinMaxScaler()],\n",
    "        'feat_select__k': np.arange(2, 10),                              \n",
    "        'clf__C': np.logspace(-3, 3, 7),                \n",
    "    },\n",
    "    {   \n",
    "        'scaler': [StandardScaler(), MinMaxScaler()],\n",
    "        'feat_select': [SelectPercentile()],                \n",
    "        'feat_select__percentile': np.arange(20, 80, 10),\n",
    "        'clf__C': np.logspace(-3, 3, 7),\n",
    "    }\n",
    "]\n",
    "\n",
    "SKF = StratifiedKFold(n_splits=5, shuffle=True, random_state=42)\n",
    "\n",
    "gscv_svm = GridSearchCV(\n",
    "    pipe_svm,\n",
    "    params_grid_svm,\n",
    "    cv=SKF,\n",
    "    scoring='f1_macro',\n",
    "    verbose=1,\n",
    "    n_jobs=-1\n",
    ")\n",
    "\n",
    "print(\"Menjalankan GridSearch untuk SVM...\")\n",
    "start = time.time()\n",
    "gscv_svm.fit(X_train, y_train)\n",
    "print(f\"GridSearch SVM selesai dalam {time.time() - start:.2f} detik\")"
   ]
  },
  {
   "cell_type": "markdown",
   "id": "7de79584",
   "metadata": {},
   "source": [
    "## **Evaluasi model Support Vector Machine**"
   ]
  },
  {
   "cell_type": "code",
   "execution_count": 56,
   "id": "0788f2da",
   "metadata": {},
   "outputs": [
    {
     "data": {
      "image/png": "[encoded data removed]",
      "text/plain": [
       "<Figure size 640x480 with 2 Axes>"
      ]
     },
     "metadata": {},
     "output_type": "display_data"
    },
    {
     "name": "stdout",
     "output_type": "stream",
     "text": [
      "\n",
      "SVM Report:\n",
      "              precision    recall  f1-score   support\n",
      "\n",
      "           0       0.83      0.75      0.79       129\n",
      "           1       0.52      0.59      0.55       127\n",
      "           2       0.62      0.54      0.57       127\n",
      "           3       0.70      0.77      0.73       120\n",
      "\n",
      "    accuracy                           0.66       503\n",
      "   macro avg       0.67      0.66      0.66       503\n",
      "weighted avg       0.67      0.66      0.66       503\n",
      "\n"
     ]
    }
   ],
   "source": [
    "colors = [\"#8B0000\", \"#fcde62\", \"#d2f5ce\"] # merah tua → kuning → hijau muda\n",
    "custom_cmap = LinearSegmentedColormap.from_list(\"red_to_green\", colors, N=256)\n",
    "\n",
    "y_pred_svm = gscv_svm.best_estimator_.predict(X_test)\n",
    "\n",
    "# Confusion Matrix dan Classification Report\n",
    "cm_svm = confusion_matrix(y_test, y_pred_gb)\n",
    "disp_svm = ConfusionMatrixDisplay(confusion_matrix=cm_svm,\n",
    "                                 display_labels=['0=green','1=yellow','2=orange','3=red'])\n",
    "disp_svm.plot(cmap=custom_cmap)\n",
    "plt.title(\"Confusion Matrix - SVM\")\n",
    "plt.show()\n",
    "\n",
    "print(\"\\nSVM Report:\")\n",
    "print(classification_report(y_test, y_pred_svm))"
   ]
  }
 ],
 "metadata": {
  "kernelspec": {
   "display_name": "Python (pythonforml)",
   "language": "python",
   "name": ".pythonforml"
  },
  "language_info": {
   "codemirror_mode": {
    "name": "ipython",
    "version": 3
   },
   "file_extension": ".py",
   "mimetype": "text/x-python",
   "name": "python",
   "nbconvert_exporter": "python",
   "pygments_lexer": "ipython3",
   "version": "3.10.0"
  }
 },
 "nbformat": 4,
 "nbformat_minor": 5
}
