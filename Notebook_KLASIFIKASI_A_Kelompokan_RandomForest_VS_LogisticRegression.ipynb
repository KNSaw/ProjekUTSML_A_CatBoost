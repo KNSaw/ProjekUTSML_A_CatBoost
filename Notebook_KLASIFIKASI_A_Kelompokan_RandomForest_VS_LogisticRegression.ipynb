{
 "cells": [
  {
   "cell_type": "markdown",
   "id": "c1e6a891",
   "metadata": {},
   "source": [
    "## **Random Forest dan Logistic Regression**"
   ]
  },
  {
   "cell_type": "markdown",
   "id": "cac5ee51-cb28-4cd9-a505-068a18c4099f",
   "metadata": {},
   "source": [
    "# **IMPORT LIBRARY**"
   ]
  },
  {
   "cell_type": "code",
   "execution_count": 1,
   "id": "16042fa9-50e9-4bfe-bf65-1fb9f7315a0b",
   "metadata": {},
   "outputs": [],
   "source": [
    "import numpy as np\n",
    "import pandas as pd\n",
    "import matplotlib.pyplot as plt\n",
    "from pathlib import Path\n",
    "\n",
    "from sklearn.model_selection import train_test_split, GridSearchCV, StratifiedKFold\n",
    "\n",
    "from sklearn.pipeline import Pipeline\n",
    "from sklearn.compose import ColumnTransformer\n",
    "from sklearn.preprocessing import StandardScaler, MinMaxScaler, OneHotEncoder\n",
    "from sklearn.feature_selection import SelectKBest, chi2, f_classif, SelectPercentile\n",
    "from sklearn.ensemble import RandomForestClassifier\n",
    "from sklearn.linear_model import LogisticRegression\n",
    "from sklearn.metrics import classification_report, confusion_matrix, ConfusionMatrixDisplay\n",
    "import pickle"
   ]
  },
  {
   "cell_type": "markdown",
   "id": "a813f86f-2799-4f28-b516-5e4a0610ee85",
   "metadata": {},
   "source": [
    "# **Data Loading**"
   ]
  },
  {
   "cell_type": "markdown",
   "id": "187ef547-d14d-447b-b247-c6e02f893c2e",
   "metadata": {},
   "source": [
    "# *membaca data dari file eksternal & menampilkan contoh isi data*"
   ]
  },
  {
   "cell_type": "code",
   "execution_count": 2,
   "id": "5bea7ca3-cfb2-4a3a-9c4a-a49ea3ef2c5c",
   "metadata": {},
   "outputs": [
    {
     "data": {
      "text/html": [
       "<div>\n",
       "<style scoped>\n",
       "    .dataframe tbody tr th:only-of-type {\n",
       "        vertical-align: middle;\n",
       "    }\n",
       "\n",
       "    .dataframe tbody tr th {\n",
       "        vertical-align: top;\n",
       "    }\n",
       "\n",
       "    .dataframe thead th {\n",
       "        text-align: right;\n",
       "    }\n",
       "</style>\n",
       "<table border=\"1\" class=\"dataframe\">\n",
       "  <thead>\n",
       "    <tr style=\"text-align: right;\">\n",
       "      <th></th>\n",
       "      <th>magnitude</th>\n",
       "      <th>depth</th>\n",
       "      <th>cdi</th>\n",
       "      <th>mmi</th>\n",
       "      <th>sig</th>\n",
       "      <th>alert</th>\n",
       "    </tr>\n",
       "  </thead>\n",
       "  <tbody>\n",
       "    <tr>\n",
       "      <th>0</th>\n",
       "      <td>7.0</td>\n",
       "      <td>14.0</td>\n",
       "      <td>8.0</td>\n",
       "      <td>7.0</td>\n",
       "      <td>0.0</td>\n",
       "      <td>green</td>\n",
       "    </tr>\n",
       "    <tr>\n",
       "      <th>1</th>\n",
       "      <td>6.9</td>\n",
       "      <td>25.0</td>\n",
       "      <td>4.0</td>\n",
       "      <td>4.0</td>\n",
       "      <td>-33.0</td>\n",
       "      <td>green</td>\n",
       "    </tr>\n",
       "    <tr>\n",
       "      <th>2</th>\n",
       "      <td>7.0</td>\n",
       "      <td>579.0</td>\n",
       "      <td>3.0</td>\n",
       "      <td>3.0</td>\n",
       "      <td>-13.0</td>\n",
       "      <td>green</td>\n",
       "    </tr>\n",
       "    <tr>\n",
       "      <th>3</th>\n",
       "      <td>7.3</td>\n",
       "      <td>37.0</td>\n",
       "      <td>5.0</td>\n",
       "      <td>5.0</td>\n",
       "      <td>65.0</td>\n",
       "      <td>green</td>\n",
       "    </tr>\n",
       "    <tr>\n",
       "      <th>4</th>\n",
       "      <td>6.6</td>\n",
       "      <td>624.0</td>\n",
       "      <td>0.0</td>\n",
       "      <td>2.0</td>\n",
       "      <td>-98.0</td>\n",
       "      <td>green</td>\n",
       "    </tr>\n",
       "  </tbody>\n",
       "</table>\n",
       "</div>"
      ],
      "text/plain": [
       "   magnitude  depth  cdi  mmi   sig  alert\n",
       "0        7.0   14.0  8.0  7.0   0.0  green\n",
       "1        6.9   25.0  4.0  4.0 -33.0  green\n",
       "2        7.0  579.0  3.0  3.0 -13.0  green\n",
       "3        7.3   37.0  5.0  5.0  65.0  green\n",
       "4        6.6  624.0  0.0  2.0 -98.0  green"
      ]
     },
     "execution_count": 2,
     "metadata": {},
     "output_type": "execute_result"
    }
   ],
   "source": [
    "df_gempa = pd.read_csv('earthquake_dataset.csv',header=0)\n",
    "\n",
    "df_gempa.head()"
   ]
  },
  {
   "cell_type": "markdown",
   "id": "e3c33937-6a88-4a93-9507-845f64eeec9d",
   "metadata": {},
   "source": [
    "# *menampilkan informasi mengenai masing-masing kolom (info) & menampilkan deskripsi terkait gambaran isi data (describe)*"
   ]
  },
  {
   "cell_type": "code",
   "execution_count": 3,
   "id": "90f83a83-73dc-449f-a390-667e043c29a0",
   "metadata": {},
   "outputs": [
    {
     "name": "stdout",
     "output_type": "stream",
     "text": [
      "Jumlah baris, kolom: (1300, 6)\n",
      "\n",
      "Tipe data:\n",
      "magnitude    float64\n",
      "depth        float64\n",
      "cdi          float64\n",
      "mmi          float64\n",
      "sig          float64\n",
      "alert         object\n",
      "dtype: object\n"
     ]
    },
    {
     "data": {
      "text/html": [
       "<div>\n",
       "<style scoped>\n",
       "    .dataframe tbody tr th:only-of-type {\n",
       "        vertical-align: middle;\n",
       "    }\n",
       "\n",
       "    .dataframe tbody tr th {\n",
       "        vertical-align: top;\n",
       "    }\n",
       "\n",
       "    .dataframe thead th {\n",
       "        text-align: right;\n",
       "    }\n",
       "</style>\n",
       "<table border=\"1\" class=\"dataframe\">\n",
       "  <thead>\n",
       "    <tr style=\"text-align: right;\">\n",
       "      <th></th>\n",
       "      <th>magnitude</th>\n",
       "      <th>depth</th>\n",
       "      <th>cdi</th>\n",
       "      <th>mmi</th>\n",
       "      <th>sig</th>\n",
       "    </tr>\n",
       "  </thead>\n",
       "  <tbody>\n",
       "    <tr>\n",
       "      <th>count</th>\n",
       "      <td>1300.000000</td>\n",
       "      <td>1300.000000</td>\n",
       "      <td>1300.000000</td>\n",
       "      <td>1300.000000</td>\n",
       "      <td>1300.000000</td>\n",
       "    </tr>\n",
       "    <tr>\n",
       "      <th>mean</th>\n",
       "      <td>7.061008</td>\n",
       "      <td>50.321538</td>\n",
       "      <td>6.976154</td>\n",
       "      <td>6.939231</td>\n",
       "      <td>-9.749231</td>\n",
       "    </tr>\n",
       "    <tr>\n",
       "      <th>std</th>\n",
       "      <td>0.423738</td>\n",
       "      <td>104.348286</td>\n",
       "      <td>2.244875</td>\n",
       "      <td>1.354774</td>\n",
       "      <td>62.245214</td>\n",
       "    </tr>\n",
       "    <tr>\n",
       "      <th>min</th>\n",
       "      <td>6.500000</td>\n",
       "      <td>2.000000</td>\n",
       "      <td>0.000000</td>\n",
       "      <td>1.000000</td>\n",
       "      <td>-128.000000</td>\n",
       "    </tr>\n",
       "    <tr>\n",
       "      <th>25%</th>\n",
       "      <td>6.700000</td>\n",
       "      <td>12.000000</td>\n",
       "      <td>6.000000</td>\n",
       "      <td>6.000000</td>\n",
       "      <td>-54.000000</td>\n",
       "    </tr>\n",
       "    <tr>\n",
       "      <th>50%</th>\n",
       "      <td>7.000000</td>\n",
       "      <td>19.000000</td>\n",
       "      <td>8.000000</td>\n",
       "      <td>7.000000</td>\n",
       "      <td>-7.000000</td>\n",
       "    </tr>\n",
       "    <tr>\n",
       "      <th>75%</th>\n",
       "      <td>7.300000</td>\n",
       "      <td>38.000000</td>\n",
       "      <td>8.000000</td>\n",
       "      <td>8.000000</td>\n",
       "      <td>31.000000</td>\n",
       "    </tr>\n",
       "    <tr>\n",
       "      <th>max</th>\n",
       "      <td>8.600000</td>\n",
       "      <td>670.000000</td>\n",
       "      <td>9.000000</td>\n",
       "      <td>9.000000</td>\n",
       "      <td>127.000000</td>\n",
       "    </tr>\n",
       "  </tbody>\n",
       "</table>\n",
       "</div>"
      ],
      "text/plain": [
       "         magnitude        depth          cdi          mmi          sig\n",
       "count  1300.000000  1300.000000  1300.000000  1300.000000  1300.000000\n",
       "mean      7.061008    50.321538     6.976154     6.939231    -9.749231\n",
       "std       0.423738   104.348286     2.244875     1.354774    62.245214\n",
       "min       6.500000     2.000000     0.000000     1.000000  -128.000000\n",
       "25%       6.700000    12.000000     6.000000     6.000000   -54.000000\n",
       "50%       7.000000    19.000000     8.000000     7.000000    -7.000000\n",
       "75%       7.300000    38.000000     8.000000     8.000000    31.000000\n",
       "max       8.600000   670.000000     9.000000     9.000000   127.000000"
      ]
     },
     "execution_count": 3,
     "metadata": {},
     "output_type": "execute_result"
    }
   ],
   "source": [
    "print(\"Jumlah baris, kolom:\", df_gempa.shape)    \n",
    "print(\"\\nTipe data:\")\n",
    "print(df_gempa.dtypes)\n",
    "\n",
    "df_gempa.describe()"
   ]
  },
  {
   "cell_type": "markdown",
   "id": "617d4611-5603-471a-abec-d21929724f12",
   "metadata": {},
   "source": [
    "# **Data checking meliputi proses pengecekan apakah ada data yang:**"
   ]
  },
  {
   "cell_type": "markdown",
   "id": "e0e587ae-13e6-476d-abde-487e15e6d692",
   "metadata": {},
   "source": [
    "# *null & NaN*"
   ]
  },
  {
   "cell_type": "code",
   "execution_count": 4,
   "id": "85b74ee3-0e3f-42f3-b022-7b53a2df6fdd",
   "metadata": {},
   "outputs": [
    {
     "name": "stdout",
     "output_type": "stream",
     "text": [
      "Jumlah nilai kosong per kolom:\n",
      " magnitude    0\n",
      "depth        0\n",
      "cdi          0\n",
      "mmi          0\n",
      "sig          0\n",
      "alert        0\n",
      "dtype: int64\n"
     ]
    }
   ],
   "source": [
    "print(\"Jumlah nilai kosong per kolom:\\n\", df_gempa.isnull().sum())"
   ]
  },
  {
   "cell_type": "markdown",
   "id": "7ec06d2c-da49-419b-9ac9-fc42c40dfef6",
   "metadata": {},
   "source": [
    "# *duplikat*"
   ]
  },
  {
   "cell_type": "code",
   "execution_count": 5,
   "id": "f80194b5-1427-4b33-8fc2-5cd5198dc833",
   "metadata": {},
   "outputs": [
    {
     "name": "stdout",
     "output_type": "stream",
     "text": [
      "Jumlah data duplikat: 44\n"
     ]
    }
   ],
   "source": [
    "print(\"Jumlah data duplikat:\", df_gempa.duplicated().sum())"
   ]
  },
  {
   "cell_type": "markdown",
   "id": "8c32a7e8-da46-4986-acda-0ec9a4267e04",
   "metadata": {},
   "source": [
    "# *kosong*"
   ]
  },
  {
   "cell_type": "code",
   "execution_count": 6,
   "id": "3127e065-9789-418a-a094-c4a92342760a",
   "metadata": {},
   "outputs": [
    {
     "name": "stdout",
     "output_type": "stream",
     "text": [
      "data kosong di alert: 0\n"
     ]
    }
   ],
   "source": [
    "for c in df_gempa.select_dtypes(include=['object']).columns:\n",
    "    n_empty = (df_gempa[c].astype(str).str.strip() == '').sum()\n",
    "    print(f\"data kosong di {c}: {n_empty}\")"
   ]
  },
  {
   "cell_type": "markdown",
   "id": "1c36aac2-c6a2-4a9b-9d33-f997de7e8fb8",
   "metadata": {},
   "source": [
    "# *outlier*"
   ]
  },
  {
   "cell_type": "code",
   "execution_count": 7,
   "id": "9317827f-841b-4a8f-b703-c1830ac4f019",
   "metadata": {},
   "outputs": [
    {
     "name": "stdout",
     "output_type": "stream",
     "text": [
      "\n",
      "Kolom Numerik: ['magnitude', 'depth', 'cdi', 'mmi', 'sig']\n",
      "\n",
      "Total Outlier per kolom yang numerik:\n",
      "{'magnitude': 13, 'depth': 168, 'cdi': 88, 'mmi': 5, 'sig': 0}\n"
     ]
    }
   ],
   "source": [
    "# Quick outlier checks using IQR for numeric columns\n",
    "num_cols = df_gempa.select_dtypes(include=[np.number]).columns.tolist()\n",
    "print('\\nKolom Numerik:', num_cols)\n",
    "\n",
    "outlier_summary = {}\n",
    "for col in num_cols:\n",
    "    Q1 = df_gempa[col].quantile(0.25)\n",
    "    Q3 = df_gempa[col].quantile(0.75)\n",
    "    IQR = Q3 - Q1\n",
    "    lower = Q1 - 1.5 * IQR\n",
    "    upper = Q3 + 1.5 * IQR\n",
    "    outliers = df_gempa[(df_gempa[col] < lower) | (df_gempa[col] > upper)].shape[0]\n",
    "    outlier_summary[col] = outliers\n",
    "print('\\nTotal Outlier per kolom yang numerik:')\n",
    "print(outlier_summary)"
   ]
  },
  {
   "cell_type": "markdown",
   "id": "47d2bf3d-b1ec-4a23-ae10-1e173e1b926b",
   "metadata": {
    "jp-MarkdownHeadingCollapsed": true
   },
   "source": [
    "# **Data Preparation**"
   ]
  },
  {
   "cell_type": "markdown",
   "id": "697ea87c-aaf0-4d34-9eff-7b57a8e7845c",
   "metadata": {},
   "source": [
    "# *penanganan data yang null dan NaN*\n",
    "    Karena tidak ada yang Null, maka tahap ini dilewati"
   ]
  },
  {
   "cell_type": "markdown",
   "id": "d1a66f0a-d5ae-4a1f-bab9-b93a94546be3",
   "metadata": {
    "jp-MarkdownHeadingCollapsed": true
   },
   "source": [
    "# *penanganan data yang kosong*\n",
    "    Karena tidak ada yang kosong, maka tahap ini dilewati"
   ]
  },
  {
   "cell_type": "markdown",
   "id": "ba6229a2-b123-4cf0-96e8-94b0ebe3f47d",
   "metadata": {},
   "source": [
    "# *penanganan data yang duplikat*"
   ]
  },
  {
   "cell_type": "code",
   "execution_count": 8,
   "id": "999f3628-a775-4d80-98eb-749061727970",
   "metadata": {},
   "outputs": [
    {
     "name": "stdout",
     "output_type": "stream",
     "text": [
      "Jumlah data duplikat: 0\n"
     ]
    }
   ],
   "source": [
    "# Remove duplicate rows\n",
    "df_gempa2 = df_gempa.copy()\n",
    "df_gempa2 = df_gempa2.drop_duplicates()\n",
    "\n",
    "print(\"Jumlah data duplikat:\", df_gempa2.duplicated().sum())"
   ]
  },
  {
   "cell_type": "markdown",
   "id": "08db748c-11f5-45c5-9c21-f084188379d6",
   "metadata": {},
   "source": [
    "# *penanganan data yang outlier*"
   ]
  },
  {
   "cell_type": "code",
   "execution_count": 9,
   "id": "52333177-ff44-48a4-be7a-bf3074f731f3",
   "metadata": {},
   "outputs": [],
   "source": [
    "FEATURES = ['magnitude', 'depth', 'cdi', 'mmi', 'sig']\n",
    "TARGET = 'alert'\n",
    "\n",
    "for c in FEATURES:\n",
    "    low = df_gempa2[c].quantile(0.01)\n",
    "    high = df_gempa2[c].quantile(0.99)\n",
    "    df_gempa2[c] = df_gempa2[c].clip(lower=low, upper=high)"
   ]
  },
  {
   "cell_type": "markdown",
   "id": "6764789c-a2f8-4c41-a79a-01c1cc374eaf",
   "metadata": {},
   "source": [
    "# **Mengubah Alert(Object) Menjadi Numerik / Data Encoding**"
   ]
  },
  {
   "cell_type": "code",
   "execution_count": 10,
   "id": "327abc14-4a6e-4901-ae50-3aa9a4a766f1",
   "metadata": {},
   "outputs": [
    {
     "name": "stdout",
     "output_type": "stream",
     "text": [
      "\n",
      "Label mapping: {'green': 0, 'yellow': 1, 'orange': 2, 'red': 3}\n"
     ]
    }
   ],
   "source": [
    "label_mapping = {\n",
    "    'green': 0,\n",
    "    'yellow': 1,\n",
    "    'orange': 2,\n",
    "    'red': 3\n",
    "}\n",
    "df_gempa2['alert'] = df_gempa2['alert'].map(label_mapping)\n",
    "print('\\nLabel mapping:', label_mapping)"
   ]
  },
  {
   "cell_type": "markdown",
   "id": "7644fdf3-3a0e-4328-858a-a237937c53f7",
   "metadata": {},
   "source": [
    "# **Pembagian Data Train Train/TestSplit**\n",
    "FEATURES = ['magnitude', 'depth', 'cdi', 'mmi', 'sig']\n",
    "\n",
    "TARGET = 'alert'"
   ]
  },
  {
   "cell_type": "code",
   "execution_count": 11,
   "id": "1fcaa07e-08a1-4641-91c9-e96645e454ab",
   "metadata": {},
   "outputs": [
    {
     "name": "stdout",
     "output_type": "stream",
     "text": [
      "\n",
      "Distribus Pembagian Train class:\n",
      "alert\n",
      "0    0.256308\n",
      "1    0.253652\n",
      "2    0.250996\n",
      "3    0.239044\n",
      "Name: proportion, dtype: float64\n",
      "\n",
      "Distribus Pembagian Test class:\n",
      "alert\n",
      "0    0.256461\n",
      "1    0.252485\n",
      "2    0.252485\n",
      "3    0.238569\n",
      "Name: proportion, dtype: float64\n",
      "\n",
      "Ukuran X_train, X_test: (753, 5) (503, 5)\n"
     ]
    }
   ],
   "source": [
    "X = df_gempa2[FEATURES]\n",
    "y = df_gempa2[TARGET]\n",
    "\n",
    "\n",
    "X_train, X_test, y_train, y_test = train_test_split(\n",
    "    X, y, test_size=0.4, random_state=86, stratify=y\n",
    ")\n",
    "\n",
    "\n",
    "print('\\nDistribus Pembagian Train class:')\n",
    "print(y_train.value_counts(normalize=True))\n",
    "print('\\nDistribus Pembagian Test class:')\n",
    "print(y_test.value_counts(normalize=True))\n",
    "\n",
    "print(\"\\nUkuran X_train, X_test:\", X_train.shape, X_test.shape)"
   ]
  },
  {
   "cell_type": "markdown",
   "id": "f100de5d-1eed-46c1-8e00-6a95638393f4",
   "metadata": {},
   "source": [
    "# **Feature selection**"
   ]
  },
  {
   "cell_type": "code",
   "execution_count": 12,
   "id": "aa59e083-3f1a-4172-8664-86f2d4cf4c07",
   "metadata": {},
   "outputs": [
    {
     "name": "stdout",
     "output_type": "stream",
     "text": [
      "\n",
      "Feature selection param choices:\n",
      "k_options = [1, 2, 3, 4, 5]\n",
      "percentile_options = [10, 25, 50, 75, 100]\n"
     ]
    }
   ],
   "source": [
    "n_features = len(FEATURES)\n",
    "k_options = list(range(1, n_features + 1)) # [1..n_features]\n",
    "percentile_options = [10, 25, 50, 75, 100]\n",
    "\n",
    "\n",
    "print('\\nFeature selection param choices:')\n",
    "print('k_options =', k_options)\n",
    "print('percentile_options =', percentile_options)"
   ]
  },
  {
   "cell_type": "markdown",
   "id": "7f58040f-5e16-4b61-8228-0c490c9a38ef",
   "metadata": {},
   "source": [
    "# **Pipeline**"
   ]
  },
  {
   "cell_type": "code",
   "execution_count": 13,
   "id": "d8fa57aa-92f3-4422-bf28-3d6a5ae83d44",
   "metadata": {},
   "outputs": [],
   "source": [
    "selector_k = SelectKBest(score_func=f_classif)\n",
    "selector_pct = SelectPercentile(score_func=f_classif)"
   ]
  },
  {
   "cell_type": "markdown",
   "id": "5fdcf99d-cb10-4fae-b189-b90f5284f305",
   "metadata": {},
   "source": [
    "# *Random Forest Pipeline*"
   ]
  },
  {
   "cell_type": "code",
   "execution_count": 14,
   "id": "eaf50821-074b-434a-bf43-55a594fd98a5",
   "metadata": {},
   "outputs": [],
   "source": [
    "from sklearn.impute import SimpleImputer\n",
    "\n",
    "num_imputer = SimpleImputer(strategy='median')\n",
    "selector_k = SelectKBest(score_func=f_classif, k='all')\n",
    "\n",
    "# Pipeline\n",
    "pipe_rf = Pipeline([\n",
    "    ('imputer', num_imputer),\n",
    "    ('selector', selector_k),\n",
    "    ('clf', RandomForestClassifier(random_state=86))\n",
    "])"
   ]
  },
  {
   "cell_type": "markdown",
   "id": "02846764-e70b-4ef8-b8ba-1ecba3bf10c6",
   "metadata": {},
   "source": [
    "# *Logistic Regression Pipeline*"
   ]
  },
  {
   "cell_type": "code",
   "execution_count": 15,
   "id": "4f3c515a-16c2-4362-a722-79c24d49c4af",
   "metadata": {},
   "outputs": [],
   "source": [
    "pipe_lr = Pipeline([\n",
    "    ('imputer', num_imputer),\n",
    "    ('scaler', StandardScaler()),\n",
    "    ('selector', selector_k),\n",
    "    ('clf', LogisticRegression(max_iter=500, random_state=86))\n",
    "])"
   ]
  },
  {
   "cell_type": "markdown",
   "id": "cee04250-00b8-4fb5-a9bd-5c6b14235e54",
   "metadata": {},
   "source": [
    "# *Paramater Grids*"
   ]
  },
  {
   "cell_type": "code",
   "execution_count": 16,
   "id": "cf2bd9b0-4095-4947-b88a-f89916781b4d",
   "metadata": {},
   "outputs": [],
   "source": [
    "cv = StratifiedKFold(n_splits=5, shuffle=True, random_state=42)"
   ]
  },
  {
   "cell_type": "code",
   "execution_count": 17,
   "id": "7322447e-b1c0-43aa-8789-7173cf4d5216",
   "metadata": {},
   "outputs": [],
   "source": [
    "# Parameter grids (random forest)\n",
    "param_grid_rf = [\n",
    "    {\n",
    "        'selector': [SelectKBest(score_func=f_classif)],\n",
    "        'selector__k': k_options,\n",
    "        'clf__n_estimators': [100, 200],\n",
    "        'clf__max_depth': [None, 5, 10],\n",
    "        'clf__class_weight': [None, 'balanced']\n",
    "    },\n",
    "    {\n",
    "        'selector': [SelectPercentile(score_func=f_classif)],\n",
    "        'selector__percentile': [10, 25, 50, 75, 100],\n",
    "        'clf__n_estimators': [100, 200],\n",
    "        'clf__max_depth': [None, 5, 10],\n",
    "        'clf__class_weight': [None, 'balanced']\n",
    "    }\n",
    "]"
   ]
  },
  {
   "cell_type": "code",
   "execution_count": 18,
   "id": "98597389-8cee-4180-aaba-590280ac7670",
   "metadata": {},
   "outputs": [],
   "source": [
    "# Parameter grids (logistic regression)\n",
    "param_grid_lr = [\n",
    "    {\n",
    "        'scaler': [StandardScaler(), MinMaxScaler()],\n",
    "        'selector': [SelectKBest(score_func=f_classif)],\n",
    "        'selector__k': k_options,\n",
    "        'clf__C': [0.01, 0.1, 1, 10],\n",
    "        'clf__penalty': ['l2'],\n",
    "        'clf__solver': ['lbfgs']\n",
    "    },\n",
    "    {\n",
    "        'scaler': [StandardScaler(), MinMaxScaler()],\n",
    "        'selector': [SelectPercentile(score_func=f_classif)],\n",
    "        'selector__percentile': [10, 25, 50, 75, 100],\n",
    "        'clf__C': [0.01, 0.1, 1, 10],\n",
    "        'clf__penalty': ['l2'],\n",
    "        'clf__solver': ['lbfgs']\n",
    "    }\n",
    "]"
   ]
  },
  {
   "cell_type": "markdown",
   "id": "362efe09-43a4-44f2-ae45-5fb308e71ebd",
   "metadata": {},
   "source": [
    "# **GridSearchCV**"
   ]
  },
  {
   "cell_type": "code",
   "execution_count": 19,
   "id": "136a538a-1c93-45d4-8e70-ead74542f066",
   "metadata": {},
   "outputs": [],
   "source": [
    "#Random Forest\n",
    "grid_rf = GridSearchCV(\n",
    "    estimator=pipe_rf,\n",
    "    param_grid=param_grid_rf,\n",
    "    scoring='f1_macro',\n",
    "    n_jobs=-1,\n",
    "    cv=cv,\n",
    "    verbose=1,\n",
    "    return_train_score=False\n",
    ")"
   ]
  },
  {
   "cell_type": "code",
   "execution_count": 20,
   "id": "e99d7648-e5f3-42f3-9936-0c2920296c37",
   "metadata": {},
   "outputs": [],
   "source": [
    "#Logistic Regression\n",
    "grid_lr = GridSearchCV(\n",
    "    estimator=pipe_lr,\n",
    "    param_grid=param_grid_lr,\n",
    "    scoring='f1_macro',\n",
    "    n_jobs=-1,\n",
    "    cv=cv,\n",
    "    verbose=1,\n",
    "    return_train_score=False\n",
    ")"
   ]
  },
  {
   "cell_type": "code",
   "execution_count": 21,
   "id": "625734bb-4f5e-4801-9899-5c1870ad9415",
   "metadata": {},
   "outputs": [
    {
     "name": "stdout",
     "output_type": "stream",
     "text": [
      "Menjalankan Grid Search untuk Random Forest...\n",
      "Fitting 5 folds for each of 120 candidates, totalling 600 fits\n",
      "GridSearch Random Forest selesai dalam 5.86 detik\n",
      "\n",
      "Menjalankan Grid Search untuk Logistic Regression...\n",
      "Fitting 5 folds for each of 80 candidates, totalling 400 fits\n",
      "GridSearch Logistic Regression selesai dalam 6.30 detik\n"
     ]
    }
   ],
   "source": [
    "import time\n",
    "print(\"Menjalankan Grid Search untuk Random Forest...\")\n",
    "start = time.time()\n",
    "grid_rf.fit(X_train, y_train)    \n",
    "print(f\"GridSearch Random Forest selesai dalam {time.time() - start:.2f} detik\")\n",
    "\n",
    "print(\"\\nMenjalankan Grid Search untuk Logistic Regression...\")\n",
    "grid_lr.fit(X_train, y_train)\n",
    "print(f\"GridSearch Logistic Regression selesai dalam {time.time() - start:.2f} detik\")"
   ]
  },
  {
   "cell_type": "markdown",
   "id": "05cf237b-7277-431b-8ce8-97d630aec01e",
   "metadata": {},
   "source": [
    "# **pengecekan fitur yang signifikan + Visualisasi hasil + confusion matrix**"
   ]
  },
  {
   "cell_type": "code",
   "execution_count": 22,
   "id": "1f62eaa1-fb5c-499b-9dfc-d2bc08772619",
   "metadata": {},
   "outputs": [],
   "source": [
    "# #RF\n",
    "# print(\"CV Score (F1) terbaik:\", grid_rf.best_score_)       \n",
    "# print(\"Kombinasi model terbaik:\", grid_rf.best_estimator_)     \n",
    "\n",
    "# rf_test_score = grid_rf.best_estimator_.score(X_test, y_test)\n",
    "# print(\"\\nSkor Test (akurasi) Random Forest:\", rf_test_score)  \n",
    "\n",
    "# selector = grid_rf.best_estimator_.named_steps['selector']\n",
    "# if hasattr(selector, 'get_support'):\n",
    "#     mask = selector.get_support()\n",
    "#     selected = np.array(X.columns)[mask]\n",
    "#     print(\"\\nFitur terbaik (terpilih):\", selected)\n",
    "\n",
    "# rf_pred = grid_rf.predict(X_test)            \n",
    "# cm_rf = confusion_matrix(y_test, rf_pred)      \n",
    "# disp_rf = ConfusionMatrixDisplay(confusion_matrix=cm_rf, display_labels=['0 = green','1 = yellow', '2 = orange', '3 = red'])  \n",
    "# disp_rf.plot(cmap=plt.cm.Greens)\n",
    "# plt.title(\"Confusion Matrix — Random Forest\")\n",
    "# plt.show()\n",
    "\n",
    "# print(\"\\nClassification Report — Random Forest:\\n\",  classification_report(y_test, rf_pred))"
   ]
  },
  {
   "cell_type": "code",
   "execution_count": 23,
   "id": "a1889ade-af19-4a1a-a539-201ee11625c9",
   "metadata": {},
   "outputs": [],
   "source": [
    "# # Logistic Regression\n",
    "\n",
    "# print(\"CV Score (F1) terbaik:\", grid_lr.best_score_)\n",
    "# print(\"Kombinasi model terbaik:\", grid_lr.best_estimator_)\n",
    "\n",
    "# lr_test_score = grid_lr.best_estimator_.score(X_test, y_test)\n",
    "# print(\"\\nSkor Test (akurasi) Logistic Regression:\", lr_test_score)\n",
    "\n",
    "# selector_lr = grid_lr.best_estimator_.named_steps['selector']\n",
    "# if hasattr(selector_lr, 'get_support'):\n",
    "#     mask_lr = selector_lr.get_support()\n",
    "#     selected_lr = np.array(X.columns)[mask_lr]\n",
    "#     print(\"\\nFitur terbaik (terpilih):\", selected_lr)\n",
    "\n",
    "# lr_pred = grid_lr.predict(X_test)\n",
    "# cm_lr = confusion_matrix(y_test, lr_pred)\n",
    "# disp_lr = ConfusionMatrixDisplay(confusion_matrix=cm_lr, display_labels=['0 = green','1 = yellow', '2 = orange', '3 = red'])\n",
    "# disp_lr.plot(cmap=plt.cm.Blues)\n",
    "# plt.title(\"Confusion Matrix — Logistic Regression\")\n",
    "# plt.show()\n",
    "\n",
    "# print(\"\\nClassification Report — Logistic Regression:\\n\", classification_report(y_test, lr_pred))"
   ]
  },
  {
   "cell_type": "code",
   "execution_count": 24,
   "id": "dce11aa7-1635-4eaf-a277-7374ed118c14",
   "metadata": {},
   "outputs": [
    {
     "name": "stdout",
     "output_type": "stream",
     "text": [
      "\n",
      "--- Model evaluation: RandomForestClassifier\n",
      "\n",
      "Classification Report:\n",
      "              precision    recall  f1-score   support\n",
      "\n",
      "       green       0.99      0.80      0.88       129\n",
      "      orange       0.82      0.89      0.85       127\n",
      "         red       0.84      0.93      0.88       127\n",
      "      yellow       0.93      0.93      0.93       120\n",
      "\n",
      "    accuracy                           0.88       503\n",
      "   macro avg       0.89      0.89      0.89       503\n",
      "weighted avg       0.89      0.88      0.89       503\n",
      "\n"
     ]
    },
    {
     "data": {
      "image/png": "[encoded data removed]",
      "text/plain": [
       "<Figure size 600x500 with 2 Axes>"
      ]
     },
     "metadata": {},
     "output_type": "display_data"
    },
    {
     "name": "stdout",
     "output_type": "stream",
     "text": [
      "\n",
      "Selected features: ['magnitude', 'depth', 'cdi', 'mmi', 'sig']\n",
      "\n",
      "--- Model evaluation: LogisticRegression\n",
      "\n",
      "Classification Report:\n",
      "              precision    recall  f1-score   support\n",
      "\n",
      "       green       0.84      0.75      0.79       129\n",
      "      orange       0.52      0.55      0.54       127\n",
      "         red       0.55      0.51      0.53       127\n",
      "      yellow       0.69      0.78      0.73       120\n",
      "\n",
      "    accuracy                           0.65       503\n",
      "   macro avg       0.65      0.65      0.65       503\n",
      "weighted avg       0.65      0.65      0.65       503\n",
      "\n"
     ]
    },
    {
     "data": {
      "image/png": "[encoded data removed]",
      "text/plain": [
       "<Figure size 600x500 with 2 Axes>"
      ]
     },
     "metadata": {},
     "output_type": "display_data"
    },
    {
     "name": "stdout",
     "output_type": "stream",
     "text": [
      "\n",
      "Selected features: ['magnitude', 'depth', 'cdi', 'mmi', 'sig']\n"
     ]
    }
   ],
   "source": [
    "def evaluate_model(grid_search, X_test, y_test, feature_names):\n",
    "    best = grid_search.best_estimator_\n",
    "    y_pred = best.predict(X_test)\n",
    "    print('\\n--- Model evaluation:', type(best.named_steps['clf']).__name__)\n",
    "    print('\\nClassification Report:')\n",
    "    print(classification_report(y_test, y_pred, target_names=[str(k) for k in sorted(label_mapping.keys())]))\n",
    "    \n",
    "    \n",
    "    cm = confusion_matrix(y_test, y_pred)\n",
    "    disp = ConfusionMatrixDisplay(confusion_matrix=cm, display_labels=[str(k) for k in sorted(label_mapping.keys())])\n",
    "    fig, ax = plt.subplots(figsize=(6,5))\n",
    "    disp.plot(ax=ax)\n",
    "    ax.set_title(f'Confusion Matrix - {type(best.named_steps[\"clf\"]).__name__}')\n",
    "    plt.show()\n",
    "    \n",
    "    \n",
    "    # Extract selected features\n",
    "    selector = best.named_steps.get('selector')\n",
    "    if selector is not None:\n",
    "        # selector may be SelectKBest or SelectPercentile\n",
    "        mask = selector.get_support()\n",
    "        selected = [f for f, m in zip(feature_names, mask) if m]\n",
    "        print('\\nSelected features:', selected)\n",
    "    else:\n",
    "        print('\\nNo selector found in pipeline.')\n",
    "    \n",
    "\n",
    "# Evaluasi RF terbaik\n",
    "evaluate_model(grid_rf, X_test, y_test, FEATURES)\n",
    "\n",
    "\n",
    "# Evaluasi LR terbaik\n",
    "evaluate_model(grid_lr, X_test, y_test, FEATURES)"
   ]
  },
  {
   "cell_type": "markdown",
   "id": "da56c569-668d-4524-8d57-a267316b9584",
   "metadata": {},
   "source": [
    "# *pengecekan model terbaik*"
   ]
  },
  {
   "cell_type": "code",
   "execution_count": 25,
   "id": "ccaa90ac-df03-4930-b6a9-6ac72930629d",
   "metadata": {},
   "outputs": [
    {
     "name": "stdout",
     "output_type": "stream",
     "text": [
      "RF terbaik:\n",
      "{'clf__class_weight': 'balanced', 'clf__max_depth': None, 'clf__n_estimators': 100, 'selector': SelectKBest(), 'selector__k': 5}\n",
      "Best RF cross-val score (f1_macro): 0.8869651336938297\n",
      "\n",
      "LR terbaik:\n",
      "{'clf__C': 10, 'clf__penalty': 'l2', 'clf__solver': 'lbfgs', 'scaler': StandardScaler(), 'selector': SelectKBest(), 'selector__k': 5}\n",
      "Best LR cross-val score (f1_macro): 0.6535978846771364\n"
     ]
    }
   ],
   "source": [
    "#RF\n",
    "print('RF terbaik:')\n",
    "print(grid_rf.best_params_)\n",
    "print('Best RF cross-val score (f1_macro):', grid_rf.best_score_)\n",
    "\n",
    "#LR\n",
    "print('\\nLR terbaik:')\n",
    "print(grid_lr.best_params_)\n",
    "print('Best LR cross-val score (f1_macro):', grid_lr.best_score_)"
   ]
  },
  {
   "cell_type": "code",
   "execution_count": 28,
   "id": "0b5766f8-ffec-404f-8d06-d5ea9cfc71de",
   "metadata": {},
   "outputs": [
    {
     "name": "stdout",
     "output_type": "stream",
     "text": [
      "✅ Model Random Forest yang terbaik berhasil disimpan ke 'best_random_forest.pkl'\n"
     ]
    }
   ],
   "source": [
    "import pickle                                    \n",
    "\n",
    "\n",
    "best_rf_model = grid_rf.best_estimator_.named_steps['clf']\n",
    "\n",
    "with open(\"best_random_forest.pkl\", \"wb\") as f:   \n",
    "        pickle.dump(best_rf_model, f)                \n",
    "\n",
    "print(\"✅ Model Random Forest yang terbaik berhasil disimpan ke 'best_random_forest.pkl'\")"
   ]
  }
 ],
 "metadata": {
  "kernelspec": {
   "display_name": "Python for Machine Learning",
   "language": "python",
   "name": "ml"
  },
  "language_info": {
   "codemirror_mode": {
    "name": "ipython",
    "version": 3
   },
   "file_extension": ".py",
   "mimetype": "text/x-python",
   "name": "python",
   "nbconvert_exporter": "python",
   "pygments_lexer": "ipython3",
   "version": "3.12.6"
  }
 },
 "nbformat": 4,
 "nbformat_minor": 5
}
